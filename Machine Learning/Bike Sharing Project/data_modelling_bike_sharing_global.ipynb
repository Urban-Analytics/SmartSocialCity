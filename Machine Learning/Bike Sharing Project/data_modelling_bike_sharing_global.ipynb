{
 "cells": [
  {
   "cell_type": "markdown",
   "metadata": {},
   "source": [
    "# Data modelling on Bike Sharing data in London\n",
    "\n",
    "Data aquired from: https://s3.amazonaws.com/capitalbikeshare-data/index.html  \n",
    "Data project initiated: 25/01/2019  \n",
    "Author: Sedar Olmez"
   ]
  },
  {
   "cell_type": "markdown",
   "metadata": {},
   "source": [
    "Data modelling:  \n",
    "    GDS1: Data Gathering, Preparation and Exploration.  \n",
    "    GDS2: Data Representation and Transformation.  \n",
    "    GDS3: Computing with Data.   \n",
    "    GDS4: Data Visualisation and Presentation.   \n",
    "    GDS5: Data Modelling.   \n",
    "    GDS6: Science about Data Science. "
   ]
  },
  {
   "cell_type": "markdown",
   "metadata": {},
   "source": [
    "Assessment:\n",
    "![Assessment](assessment.png)"
   ]
  },
  {
   "cell_type": "markdown",
   "metadata": {},
   "source": [
    "# Dataset information\n",
    "I have two datasets, one I will be using to clean and the other to perform machine learning algorithms on. The reason for why I am using two is because the original dataset I want to use has already been cleaned, therefore, I need to perform some cleaning tasks on a smaller dataset with a similar theme.\n",
    "\n",
    "1) Dataset (cleaning): Walking_Cycling.csv - London Cycling % and Walking % by Local Authority `COLUMNS: 'LA code', 'Local Authority', 'Year', 'Frequency', 'Walking_%', 'Cycling_%'`\n",
    "\n",
    "\n",
    "2) Dataset (Machine Learning/visualisation): capitalbikeshare-tripdata-washington.csv - Capital Bike sharing information in Washington DC 2017, large dataset with a lot of useful data. `COLUMNS: 'Duration'\t'Start Date'\t'End Date'\t'Start Station Number'\t'Start Station Name'\t'End Station Number'\t'End Station Name'\t'Bike Number'\t'Member Type'`"
   ]
  },
  {
   "cell_type": "code",
   "execution_count": 123,
   "metadata": {},
   "outputs": [],
   "source": [
    "# Libraries\n",
    "from __future__ import print_function\n",
    "import matplotlib.pyplot as plt\n",
    "import seaborn as sea\n",
    "import pandas as pd\n",
    "import numpy as np\n",
    "from datetime import date\n",
    "from sklearn.preprocessing import StandardScaler\n",
    "from sklearn.linear_model import LinearRegression\n",
    "from sklearn.ensemble import RandomForestRegressor\n",
    "from sklearn.linear_model import Ridge, Lasso, ElasticNet\n",
    "from sklearn.preprocessing import PolynomialFeatures\n",
    "from sklearn.metrics import r2_score\n",
    "from sklearn.tree import DecisionTreeRegressor\n",
    "from sklearn.model_selection import RandomizedSearchCV\n",
    "from sklearn.model_selection import cross_val_score\n",
    "from sklearn.metrics import mean_squared_error\n",
    "from sklearn.preprocessing import OneHotEncoder\n",
    "from sklearn.cluster import KMeans"
   ]
  },
  {
   "cell_type": "markdown",
   "metadata": {},
   "source": [
    "## Small dataset - Walking_Cycling.csv"
   ]
  },
  {
   "cell_type": "code",
   "execution_count": 2,
   "metadata": {
    "scrolled": true
   },
   "outputs": [
    {
     "name": "stdout",
     "output_type": "stream",
     "text": [
      "CPU times: user 8.34 ms, sys: 4.63 ms, total: 13 ms\n",
      "Wall time: 28.2 ms\n"
     ]
    }
   ],
   "source": [
    "%%time\n",
    "# Load up the journeys.csv dataset into dataframes\n",
    "dataframe_journeys = pd.read_csv('data/Walking-Cycling.csv')\n",
    "dataframe_journeys.columns = ['LA code', 'Local Authority', 'Year', 'Frequency', 'Walking_%', 'Cycling_%']\n",
    "dataframe_journeys.dropna()"
   ]
  },
  {
   "cell_type": "code",
   "execution_count": 3,
   "metadata": {},
   "outputs": [
    {
     "data": {
      "text/html": [
       "<div>\n",
       "<style scoped>\n",
       "    .dataframe tbody tr th:only-of-type {\n",
       "        vertical-align: middle;\n",
       "    }\n",
       "\n",
       "    .dataframe tbody tr th {\n",
       "        vertical-align: top;\n",
       "    }\n",
       "\n",
       "    .dataframe thead th {\n",
       "        text-align: right;\n",
       "    }\n",
       "</style>\n",
       "<table border=\"1\" class=\"dataframe\">\n",
       "  <thead>\n",
       "    <tr style=\"text-align: right;\">\n",
       "      <th></th>\n",
       "      <th>LA code</th>\n",
       "      <th>Local Authority</th>\n",
       "      <th>Year</th>\n",
       "      <th>Frequency</th>\n",
       "      <th>Walking_%</th>\n",
       "      <th>Cycling_%</th>\n",
       "    </tr>\n",
       "  </thead>\n",
       "  <tbody>\n",
       "    <tr>\n",
       "      <th>0</th>\n",
       "      <td>E09000001</td>\n",
       "      <td>City of London</td>\n",
       "      <td>2010/11</td>\n",
       "      <td>1x per month</td>\n",
       "      <td>78</td>\n",
       "      <td>30</td>\n",
       "    </tr>\n",
       "    <tr>\n",
       "      <th>1</th>\n",
       "      <td>E09000002</td>\n",
       "      <td>Barking and Dagenham</td>\n",
       "      <td>2010/11</td>\n",
       "      <td>1x per month</td>\n",
       "      <td>60</td>\n",
       "      <td>8</td>\n",
       "    </tr>\n",
       "    <tr>\n",
       "      <th>2</th>\n",
       "      <td>E09000003</td>\n",
       "      <td>Barnet</td>\n",
       "      <td>2010/11</td>\n",
       "      <td>1x per month</td>\n",
       "      <td>65</td>\n",
       "      <td>10</td>\n",
       "    </tr>\n",
       "    <tr>\n",
       "      <th>3</th>\n",
       "      <td>E09000004</td>\n",
       "      <td>Bexley</td>\n",
       "      <td>2010/11</td>\n",
       "      <td>1x per month</td>\n",
       "      <td>65</td>\n",
       "      <td>11</td>\n",
       "    </tr>\n",
       "    <tr>\n",
       "      <th>4</th>\n",
       "      <td>E09000005</td>\n",
       "      <td>Brent</td>\n",
       "      <td>2010/11</td>\n",
       "      <td>1x per month</td>\n",
       "      <td>62</td>\n",
       "      <td>14</td>\n",
       "    </tr>\n",
       "  </tbody>\n",
       "</table>\n",
       "</div>"
      ],
      "text/plain": [
       "     LA code       Local Authority     Year     Frequency  Walking_% Cycling_%\n",
       "0  E09000001        City of London  2010/11  1x per month         78        30\n",
       "1  E09000002  Barking and Dagenham  2010/11  1x per month         60         8\n",
       "2  E09000003                Barnet  2010/11  1x per month         65        10\n",
       "3  E09000004                Bexley  2010/11  1x per month         65        11\n",
       "4  E09000005                 Brent  2010/11  1x per month         62        14"
      ]
     },
     "execution_count": 3,
     "metadata": {},
     "output_type": "execute_result"
    }
   ],
   "source": [
    "dataframe_journeys.head()"
   ]
  },
  {
   "cell_type": "code",
   "execution_count": 4,
   "metadata": {},
   "outputs": [
    {
     "data": {
      "text/plain": [
       "['LA code', 'Local Authority', 'Year', 'Frequency', 'Walking_%', 'Cycling_%']"
      ]
     },
     "execution_count": 4,
     "metadata": {},
     "output_type": "execute_result"
    }
   ],
   "source": [
    "list(dataframe_journeys)"
   ]
  },
  {
   "cell_type": "code",
   "execution_count": 5,
   "metadata": {},
   "outputs": [],
   "source": [
    "# We will now convert the Local Authority column to string\n",
    "dataframe_journeys['Local Authority'] = dataframe_journeys['Local Authority'].astype('|S')"
   ]
  },
  {
   "cell_type": "code",
   "execution_count": 6,
   "metadata": {},
   "outputs": [
    {
     "name": "stdout",
     "output_type": "stream",
     "text": [
      "<class 'pandas.core.frame.DataFrame'>\n",
      "RangeIndex: 1204 entries, 0 to 1203\n",
      "Data columns (total 6 columns):\n",
      "LA code            1204 non-null object\n",
      "Local Authority    1204 non-null object\n",
      "Year               1204 non-null object\n",
      "Frequency          1204 non-null object\n",
      "Walking_%          1204 non-null int64\n",
      "Cycling_%          1204 non-null object\n",
      "dtypes: int64(1), object(5)\n",
      "memory usage: 56.5+ KB\n"
     ]
    }
   ],
   "source": [
    "dataframe_journeys.info()"
   ]
  },
  {
   "cell_type": "markdown",
   "metadata": {},
   "source": [
    "#### In Pandas, dtype(obj) == python.dtype(str) therefore we set the string to the maximum bytes of the longest string stored by using\n",
    "\n",
    "```.astype(|S)```"
   ]
  },
  {
   "cell_type": "code",
   "execution_count": 7,
   "metadata": {},
   "outputs": [
    {
     "ename": "ValueError",
     "evalue": "invalid literal for long() with base 10: '-'",
     "output_type": "error",
     "traceback": [
      "\u001b[0;31m---------------------------------------------------------------------------\u001b[0m",
      "\u001b[0;31mValueError\u001b[0m                                Traceback (most recent call last)",
      "\u001b[0;32m<ipython-input-7-352cb87a7972>\u001b[0m in \u001b[0;36m<module>\u001b[0;34m()\u001b[0m\n\u001b[1;32m      1\u001b[0m \u001b[0;31m# We must now convert both the Walking_% and Cycling_% to float as this would make regression more accurate.\u001b[0m\u001b[0;34m\u001b[0m\u001b[0;34m\u001b[0m\u001b[0m\n\u001b[1;32m      2\u001b[0m \u001b[0;31m# However we must first convert Cycling_% from String to Int then Float.\u001b[0m\u001b[0;34m\u001b[0m\u001b[0;34m\u001b[0m\u001b[0m\n\u001b[0;32m----> 3\u001b[0;31m \u001b[0mdataframe_journeys\u001b[0m\u001b[0;34m[\u001b[0m\u001b[0;34m'Cycling_%'\u001b[0m\u001b[0;34m]\u001b[0m\u001b[0;34m.\u001b[0m\u001b[0mastype\u001b[0m\u001b[0;34m(\u001b[0m\u001b[0mint\u001b[0m\u001b[0;34m)\u001b[0m\u001b[0;34m\u001b[0m\u001b[0m\n\u001b[0m",
      "\u001b[0;32m/miniconda2/lib/python2.7/site-packages/pandas/util/_decorators.pyc\u001b[0m in \u001b[0;36mwrapper\u001b[0;34m(*args, **kwargs)\u001b[0m\n\u001b[1;32m    176\u001b[0m                 \u001b[0;32melse\u001b[0m\u001b[0;34m:\u001b[0m\u001b[0;34m\u001b[0m\u001b[0m\n\u001b[1;32m    177\u001b[0m                     \u001b[0mkwargs\u001b[0m\u001b[0;34m[\u001b[0m\u001b[0mnew_arg_name\u001b[0m\u001b[0;34m]\u001b[0m \u001b[0;34m=\u001b[0m \u001b[0mnew_arg_value\u001b[0m\u001b[0;34m\u001b[0m\u001b[0m\n\u001b[0;32m--> 178\u001b[0;31m             \u001b[0;32mreturn\u001b[0m \u001b[0mfunc\u001b[0m\u001b[0;34m(\u001b[0m\u001b[0;34m*\u001b[0m\u001b[0margs\u001b[0m\u001b[0;34m,\u001b[0m \u001b[0;34m**\u001b[0m\u001b[0mkwargs\u001b[0m\u001b[0;34m)\u001b[0m\u001b[0;34m\u001b[0m\u001b[0m\n\u001b[0m\u001b[1;32m    179\u001b[0m         \u001b[0;32mreturn\u001b[0m \u001b[0mwrapper\u001b[0m\u001b[0;34m\u001b[0m\u001b[0m\n\u001b[1;32m    180\u001b[0m     \u001b[0;32mreturn\u001b[0m \u001b[0m_deprecate_kwarg\u001b[0m\u001b[0;34m\u001b[0m\u001b[0m\n",
      "\u001b[0;32m/miniconda2/lib/python2.7/site-packages/pandas/core/generic.pyc\u001b[0m in \u001b[0;36mastype\u001b[0;34m(self, dtype, copy, errors, **kwargs)\u001b[0m\n\u001b[1;32m   4999\u001b[0m             \u001b[0;31m# else, only a single dtype is given\u001b[0m\u001b[0;34m\u001b[0m\u001b[0;34m\u001b[0m\u001b[0m\n\u001b[1;32m   5000\u001b[0m             new_data = self._data.astype(dtype=dtype, copy=copy, errors=errors,\n\u001b[0;32m-> 5001\u001b[0;31m                                          **kwargs)\n\u001b[0m\u001b[1;32m   5002\u001b[0m             \u001b[0;32mreturn\u001b[0m \u001b[0mself\u001b[0m\u001b[0;34m.\u001b[0m\u001b[0m_constructor\u001b[0m\u001b[0;34m(\u001b[0m\u001b[0mnew_data\u001b[0m\u001b[0;34m)\u001b[0m\u001b[0;34m.\u001b[0m\u001b[0m__finalize__\u001b[0m\u001b[0;34m(\u001b[0m\u001b[0mself\u001b[0m\u001b[0;34m)\u001b[0m\u001b[0;34m\u001b[0m\u001b[0m\n\u001b[1;32m   5003\u001b[0m \u001b[0;34m\u001b[0m\u001b[0m\n",
      "\u001b[0;32m/miniconda2/lib/python2.7/site-packages/pandas/core/internals.pyc\u001b[0m in \u001b[0;36mastype\u001b[0;34m(self, dtype, **kwargs)\u001b[0m\n\u001b[1;32m   3712\u001b[0m \u001b[0;34m\u001b[0m\u001b[0m\n\u001b[1;32m   3713\u001b[0m     \u001b[0;32mdef\u001b[0m \u001b[0mastype\u001b[0m\u001b[0;34m(\u001b[0m\u001b[0mself\u001b[0m\u001b[0;34m,\u001b[0m \u001b[0mdtype\u001b[0m\u001b[0;34m,\u001b[0m \u001b[0;34m**\u001b[0m\u001b[0mkwargs\u001b[0m\u001b[0;34m)\u001b[0m\u001b[0;34m:\u001b[0m\u001b[0;34m\u001b[0m\u001b[0m\n\u001b[0;32m-> 3714\u001b[0;31m         \u001b[0;32mreturn\u001b[0m \u001b[0mself\u001b[0m\u001b[0;34m.\u001b[0m\u001b[0mapply\u001b[0m\u001b[0;34m(\u001b[0m\u001b[0;34m'astype'\u001b[0m\u001b[0;34m,\u001b[0m \u001b[0mdtype\u001b[0m\u001b[0;34m=\u001b[0m\u001b[0mdtype\u001b[0m\u001b[0;34m,\u001b[0m \u001b[0;34m**\u001b[0m\u001b[0mkwargs\u001b[0m\u001b[0;34m)\u001b[0m\u001b[0;34m\u001b[0m\u001b[0m\n\u001b[0m\u001b[1;32m   3715\u001b[0m \u001b[0;34m\u001b[0m\u001b[0m\n\u001b[1;32m   3716\u001b[0m     \u001b[0;32mdef\u001b[0m \u001b[0mconvert\u001b[0m\u001b[0;34m(\u001b[0m\u001b[0mself\u001b[0m\u001b[0;34m,\u001b[0m \u001b[0;34m**\u001b[0m\u001b[0mkwargs\u001b[0m\u001b[0;34m)\u001b[0m\u001b[0;34m:\u001b[0m\u001b[0;34m\u001b[0m\u001b[0m\n",
      "\u001b[0;32m/miniconda2/lib/python2.7/site-packages/pandas/core/internals.pyc\u001b[0m in \u001b[0;36mapply\u001b[0;34m(self, f, axes, filter, do_integrity_check, consolidate, **kwargs)\u001b[0m\n\u001b[1;32m   3579\u001b[0m \u001b[0;34m\u001b[0m\u001b[0m\n\u001b[1;32m   3580\u001b[0m             \u001b[0mkwargs\u001b[0m\u001b[0;34m[\u001b[0m\u001b[0;34m'mgr'\u001b[0m\u001b[0;34m]\u001b[0m \u001b[0;34m=\u001b[0m \u001b[0mself\u001b[0m\u001b[0;34m\u001b[0m\u001b[0m\n\u001b[0;32m-> 3581\u001b[0;31m             \u001b[0mapplied\u001b[0m \u001b[0;34m=\u001b[0m \u001b[0mgetattr\u001b[0m\u001b[0;34m(\u001b[0m\u001b[0mb\u001b[0m\u001b[0;34m,\u001b[0m \u001b[0mf\u001b[0m\u001b[0;34m)\u001b[0m\u001b[0;34m(\u001b[0m\u001b[0;34m**\u001b[0m\u001b[0mkwargs\u001b[0m\u001b[0;34m)\u001b[0m\u001b[0;34m\u001b[0m\u001b[0m\n\u001b[0m\u001b[1;32m   3582\u001b[0m             \u001b[0mresult_blocks\u001b[0m \u001b[0;34m=\u001b[0m \u001b[0m_extend_blocks\u001b[0m\u001b[0;34m(\u001b[0m\u001b[0mapplied\u001b[0m\u001b[0;34m,\u001b[0m \u001b[0mresult_blocks\u001b[0m\u001b[0;34m)\u001b[0m\u001b[0;34m\u001b[0m\u001b[0m\n\u001b[1;32m   3583\u001b[0m \u001b[0;34m\u001b[0m\u001b[0m\n",
      "\u001b[0;32m/miniconda2/lib/python2.7/site-packages/pandas/core/internals.pyc\u001b[0m in \u001b[0;36mastype\u001b[0;34m(self, dtype, copy, errors, values, **kwargs)\u001b[0m\n\u001b[1;32m    573\u001b[0m     \u001b[0;32mdef\u001b[0m \u001b[0mastype\u001b[0m\u001b[0;34m(\u001b[0m\u001b[0mself\u001b[0m\u001b[0;34m,\u001b[0m \u001b[0mdtype\u001b[0m\u001b[0;34m,\u001b[0m \u001b[0mcopy\u001b[0m\u001b[0;34m=\u001b[0m\u001b[0mFalse\u001b[0m\u001b[0;34m,\u001b[0m \u001b[0merrors\u001b[0m\u001b[0;34m=\u001b[0m\u001b[0;34m'raise'\u001b[0m\u001b[0;34m,\u001b[0m \u001b[0mvalues\u001b[0m\u001b[0;34m=\u001b[0m\u001b[0mNone\u001b[0m\u001b[0;34m,\u001b[0m \u001b[0;34m**\u001b[0m\u001b[0mkwargs\u001b[0m\u001b[0;34m)\u001b[0m\u001b[0;34m:\u001b[0m\u001b[0;34m\u001b[0m\u001b[0m\n\u001b[1;32m    574\u001b[0m         return self._astype(dtype, copy=copy, errors=errors, values=values,\n\u001b[0;32m--> 575\u001b[0;31m                             **kwargs)\n\u001b[0m\u001b[1;32m    576\u001b[0m \u001b[0;34m\u001b[0m\u001b[0m\n\u001b[1;32m    577\u001b[0m     def _astype(self, dtype, copy=False, errors='raise', values=None,\n",
      "\u001b[0;32m/miniconda2/lib/python2.7/site-packages/pandas/core/internals.pyc\u001b[0m in \u001b[0;36m_astype\u001b[0;34m(self, dtype, copy, errors, values, klass, mgr, **kwargs)\u001b[0m\n\u001b[1;32m    662\u001b[0m \u001b[0;34m\u001b[0m\u001b[0m\n\u001b[1;32m    663\u001b[0m                 \u001b[0;31m# _astype_nansafe works fine with 1-d only\u001b[0m\u001b[0;34m\u001b[0m\u001b[0;34m\u001b[0m\u001b[0m\n\u001b[0;32m--> 664\u001b[0;31m                 \u001b[0mvalues\u001b[0m \u001b[0;34m=\u001b[0m \u001b[0mastype_nansafe\u001b[0m\u001b[0;34m(\u001b[0m\u001b[0mvalues\u001b[0m\u001b[0;34m.\u001b[0m\u001b[0mravel\u001b[0m\u001b[0;34m(\u001b[0m\u001b[0;34m)\u001b[0m\u001b[0;34m,\u001b[0m \u001b[0mdtype\u001b[0m\u001b[0;34m,\u001b[0m \u001b[0mcopy\u001b[0m\u001b[0;34m=\u001b[0m\u001b[0mTrue\u001b[0m\u001b[0;34m)\u001b[0m\u001b[0;34m\u001b[0m\u001b[0m\n\u001b[0m\u001b[1;32m    665\u001b[0m                 \u001b[0mvalues\u001b[0m \u001b[0;34m=\u001b[0m \u001b[0mvalues\u001b[0m\u001b[0;34m.\u001b[0m\u001b[0mreshape\u001b[0m\u001b[0;34m(\u001b[0m\u001b[0mself\u001b[0m\u001b[0;34m.\u001b[0m\u001b[0mshape\u001b[0m\u001b[0;34m)\u001b[0m\u001b[0;34m\u001b[0m\u001b[0m\n\u001b[1;32m    666\u001b[0m \u001b[0;34m\u001b[0m\u001b[0m\n",
      "\u001b[0;32m/miniconda2/lib/python2.7/site-packages/pandas/core/dtypes/cast.pyc\u001b[0m in \u001b[0;36mastype_nansafe\u001b[0;34m(arr, dtype, copy)\u001b[0m\n\u001b[1;32m    707\u001b[0m         \u001b[0;31m# work around NumPy brokenness, #1987\u001b[0m\u001b[0;34m\u001b[0m\u001b[0;34m\u001b[0m\u001b[0m\n\u001b[1;32m    708\u001b[0m         \u001b[0;32mif\u001b[0m \u001b[0mnp\u001b[0m\u001b[0;34m.\u001b[0m\u001b[0missubdtype\u001b[0m\u001b[0;34m(\u001b[0m\u001b[0mdtype\u001b[0m\u001b[0;34m.\u001b[0m\u001b[0mtype\u001b[0m\u001b[0;34m,\u001b[0m \u001b[0mnp\u001b[0m\u001b[0;34m.\u001b[0m\u001b[0minteger\u001b[0m\u001b[0;34m)\u001b[0m\u001b[0;34m:\u001b[0m\u001b[0;34m\u001b[0m\u001b[0m\n\u001b[0;32m--> 709\u001b[0;31m             \u001b[0;32mreturn\u001b[0m \u001b[0mlib\u001b[0m\u001b[0;34m.\u001b[0m\u001b[0mastype_intsafe\u001b[0m\u001b[0;34m(\u001b[0m\u001b[0marr\u001b[0m\u001b[0;34m.\u001b[0m\u001b[0mravel\u001b[0m\u001b[0;34m(\u001b[0m\u001b[0;34m)\u001b[0m\u001b[0;34m,\u001b[0m \u001b[0mdtype\u001b[0m\u001b[0;34m)\u001b[0m\u001b[0;34m.\u001b[0m\u001b[0mreshape\u001b[0m\u001b[0;34m(\u001b[0m\u001b[0marr\u001b[0m\u001b[0;34m.\u001b[0m\u001b[0mshape\u001b[0m\u001b[0;34m)\u001b[0m\u001b[0;34m\u001b[0m\u001b[0m\n\u001b[0m\u001b[1;32m    710\u001b[0m \u001b[0;34m\u001b[0m\u001b[0m\n\u001b[1;32m    711\u001b[0m         \u001b[0;31m# if we have a datetime/timedelta array of objects\u001b[0m\u001b[0;34m\u001b[0m\u001b[0;34m\u001b[0m\u001b[0m\n",
      "\u001b[0;32mpandas/_libs/lib.pyx\u001b[0m in \u001b[0;36mpandas._libs.lib.astype_intsafe\u001b[0;34m()\u001b[0m\n",
      "\u001b[0;32mpandas/_libs/src/util.pxd\u001b[0m in \u001b[0;36mutil.set_value_at_unsafe\u001b[0;34m()\u001b[0m\n",
      "\u001b[0;31mValueError\u001b[0m: invalid literal for long() with base 10: '-'"
     ]
    }
   ],
   "source": [
    "# We must now convert both the Walking_% and Cycling_% to float as this would make regression more accurate.\n",
    "# However we must first convert Cycling_% from String to Int then Float.\n",
    "dataframe_journeys['Cycling_%'].astype(int)"
   ]
  },
  {
   "cell_type": "code",
   "execution_count": 8,
   "metadata": {},
   "outputs": [],
   "source": [
    "# An invalit literal for long() error is thrown, this means there are values in the column which cannot be converted to int\n",
    "# Let us identify these columns\n",
    "dataframe_journeys['Cycling_%'] = pd.to_numeric(dataframe_journeys['Cycling_%'], errors='coerce')"
   ]
  },
  {
   "cell_type": "code",
   "execution_count": 9,
   "metadata": {},
   "outputs": [
    {
     "name": "stdout",
     "output_type": "stream",
     "text": [
      "       LA code Local Authority     Year    Frequency  Walking_%  Cycling_%\n",
      "326  E09000026       Redbridge  2011/12  5x per week         17        NaN\n"
     ]
    }
   ],
   "source": [
    "# We found the row with the problem, for row 326 the column Cycling_% had '-' so we replaced it with NaN.\n",
    "print (dataframe_journeys[ pd.to_numeric(dataframe_journeys['Cycling_%'], errors='coerce').isnull()])"
   ]
  },
  {
   "cell_type": "code",
   "execution_count": 10,
   "metadata": {},
   "outputs": [],
   "source": [
    "# We must replace the NaN to an integer value i.e. 0 so we can produce a pairplot later using seaborn.\n",
    "dataframe_journeys = dataframe_journeys.fillna(0.0)"
   ]
  },
  {
   "cell_type": "code",
   "execution_count": 11,
   "metadata": {},
   "outputs": [
    {
     "name": "stdout",
     "output_type": "stream",
     "text": [
      "<class 'pandas.core.frame.DataFrame'>\n",
      "RangeIndex: 1204 entries, 0 to 1203\n",
      "Data columns (total 6 columns):\n",
      "LA code            1204 non-null object\n",
      "Local Authority    1204 non-null object\n",
      "Year               1204 non-null object\n",
      "Frequency          1204 non-null object\n",
      "Walking_%          1204 non-null int64\n",
      "Cycling_%          1204 non-null float64\n",
      "dtypes: float64(1), int64(1), object(4)\n",
      "memory usage: 56.5+ KB\n"
     ]
    }
   ],
   "source": [
    "# The 'Cycling_%' column was converted to int, now we can focus on changing both columns to floats.\n",
    "dataframe_journeys.info()"
   ]
  },
  {
   "cell_type": "code",
   "execution_count": 12,
   "metadata": {},
   "outputs": [],
   "source": [
    "# Here we convert Walking_% to float from int\n",
    "dataframe_journeys['Walking_%'] = dataframe_journeys['Walking_%'].astype(float)"
   ]
  },
  {
   "cell_type": "code",
   "execution_count": 13,
   "metadata": {},
   "outputs": [
    {
     "name": "stdout",
     "output_type": "stream",
     "text": [
      "<class 'pandas.core.frame.DataFrame'>\n",
      "RangeIndex: 1204 entries, 0 to 1203\n",
      "Data columns (total 6 columns):\n",
      "LA code            1204 non-null object\n",
      "Local Authority    1204 non-null object\n",
      "Year               1204 non-null object\n",
      "Frequency          1204 non-null object\n",
      "Walking_%          1204 non-null float64\n",
      "Cycling_%          1204 non-null float64\n",
      "dtypes: float64(2), object(4)\n",
      "memory usage: 56.5+ KB\n"
     ]
    }
   ],
   "source": [
    "# As can be seen, we converted the columns to floats.\n",
    "dataframe_journeys.info()"
   ]
  },
  {
   "cell_type": "code",
   "execution_count": 14,
   "metadata": {},
   "outputs": [
    {
     "data": {
      "text/html": [
       "<div>\n",
       "<style scoped>\n",
       "    .dataframe tbody tr th:only-of-type {\n",
       "        vertical-align: middle;\n",
       "    }\n",
       "\n",
       "    .dataframe tbody tr th {\n",
       "        vertical-align: top;\n",
       "    }\n",
       "\n",
       "    .dataframe thead th {\n",
       "        text-align: right;\n",
       "    }\n",
       "</style>\n",
       "<table border=\"1\" class=\"dataframe\">\n",
       "  <thead>\n",
       "    <tr style=\"text-align: right;\">\n",
       "      <th></th>\n",
       "      <th>LA code</th>\n",
       "      <th>Local Authority</th>\n",
       "      <th>Year</th>\n",
       "      <th>Frequency</th>\n",
       "      <th>Walking_%</th>\n",
       "      <th>Cycling_%</th>\n",
       "    </tr>\n",
       "  </thead>\n",
       "  <tbody>\n",
       "    <tr>\n",
       "      <th>0</th>\n",
       "      <td>E09000001</td>\n",
       "      <td>City of London</td>\n",
       "      <td>2010/11</td>\n",
       "      <td>1x per month</td>\n",
       "      <td>78.0</td>\n",
       "      <td>30.0</td>\n",
       "    </tr>\n",
       "    <tr>\n",
       "      <th>1</th>\n",
       "      <td>E09000002</td>\n",
       "      <td>Barking and Dagenham</td>\n",
       "      <td>2010/11</td>\n",
       "      <td>1x per month</td>\n",
       "      <td>60.0</td>\n",
       "      <td>8.0</td>\n",
       "    </tr>\n",
       "    <tr>\n",
       "      <th>2</th>\n",
       "      <td>E09000003</td>\n",
       "      <td>Barnet</td>\n",
       "      <td>2010/11</td>\n",
       "      <td>1x per month</td>\n",
       "      <td>65.0</td>\n",
       "      <td>10.0</td>\n",
       "    </tr>\n",
       "    <tr>\n",
       "      <th>3</th>\n",
       "      <td>E09000004</td>\n",
       "      <td>Bexley</td>\n",
       "      <td>2010/11</td>\n",
       "      <td>1x per month</td>\n",
       "      <td>65.0</td>\n",
       "      <td>11.0</td>\n",
       "    </tr>\n",
       "    <tr>\n",
       "      <th>4</th>\n",
       "      <td>E09000005</td>\n",
       "      <td>Brent</td>\n",
       "      <td>2010/11</td>\n",
       "      <td>1x per month</td>\n",
       "      <td>62.0</td>\n",
       "      <td>14.0</td>\n",
       "    </tr>\n",
       "  </tbody>\n",
       "</table>\n",
       "</div>"
      ],
      "text/plain": [
       "     LA code       Local Authority     Year     Frequency  Walking_%  \\\n",
       "0  E09000001        City of London  2010/11  1x per month       78.0   \n",
       "1  E09000002  Barking and Dagenham  2010/11  1x per month       60.0   \n",
       "2  E09000003                Barnet  2010/11  1x per month       65.0   \n",
       "3  E09000004                Bexley  2010/11  1x per month       65.0   \n",
       "4  E09000005                 Brent  2010/11  1x per month       62.0   \n",
       "\n",
       "   Cycling_%  \n",
       "0       30.0  \n",
       "1        8.0  \n",
       "2       10.0  \n",
       "3       11.0  \n",
       "4       14.0  "
      ]
     },
     "execution_count": 14,
     "metadata": {},
     "output_type": "execute_result"
    }
   ],
   "source": [
    "dataframe_journeys.head()"
   ]
  },
  {
   "cell_type": "markdown",
   "metadata": {},
   "source": [
    "## Dataset cleaned and optimised, now to explore we will use our main dataset on the bikeshare data in washington DC for the year 2017 (already cleaned)"
   ]
  },
  {
   "cell_type": "code",
   "execution_count": 15,
   "metadata": {},
   "outputs": [
    {
     "name": "stdout",
     "output_type": "stream",
     "text": [
      "CPU times: user 2.74 s, sys: 150 ms, total: 2.89 s\n",
      "Wall time: 1.46 s\n"
     ]
    }
   ],
   "source": [
    "%%time\n",
    "# Load up the journeys.csv dataset into dataframes\n",
    "dataframe_washington = pd.read_csv('data/2017-capitalbikeshare-tripdata-washington.csv')\n",
    "dataframe_washington.columns = ['Duration', 'Start Date', 'End Date', 'Start Station Number', 'Start Station Name', 'End Station Number',\n",
    "                                'End Station Name', 'Bike Number', 'Member Type']\n",
    "dataframe_washington.dropna()"
   ]
  },
  {
   "cell_type": "code",
   "execution_count": 16,
   "metadata": {},
   "outputs": [
    {
     "data": {
      "text/html": [
       "<div>\n",
       "<style scoped>\n",
       "    .dataframe tbody tr th:only-of-type {\n",
       "        vertical-align: middle;\n",
       "    }\n",
       "\n",
       "    .dataframe tbody tr th {\n",
       "        vertical-align: top;\n",
       "    }\n",
       "\n",
       "    .dataframe thead th {\n",
       "        text-align: right;\n",
       "    }\n",
       "</style>\n",
       "<table border=\"1\" class=\"dataframe\">\n",
       "  <thead>\n",
       "    <tr style=\"text-align: right;\">\n",
       "      <th></th>\n",
       "      <th>Duration</th>\n",
       "      <th>Start Date</th>\n",
       "      <th>End Date</th>\n",
       "      <th>Start Station Number</th>\n",
       "      <th>Start Station Name</th>\n",
       "      <th>End Station Number</th>\n",
       "      <th>End Station Name</th>\n",
       "      <th>Bike Number</th>\n",
       "      <th>Member Type</th>\n",
       "    </tr>\n",
       "  </thead>\n",
       "  <tbody>\n",
       "    <tr>\n",
       "      <th>0</th>\n",
       "      <td>221</td>\n",
       "      <td>2017-01-01 00:00:41</td>\n",
       "      <td>2017-01-01 00:04:23</td>\n",
       "      <td>31634</td>\n",
       "      <td>3rd &amp; Tingey St SE</td>\n",
       "      <td>31208</td>\n",
       "      <td>M St &amp; New Jersey Ave SE</td>\n",
       "      <td>W00869</td>\n",
       "      <td>Member</td>\n",
       "    </tr>\n",
       "    <tr>\n",
       "      <th>1</th>\n",
       "      <td>1676</td>\n",
       "      <td>2017-01-01 00:06:53</td>\n",
       "      <td>2017-01-01 00:34:49</td>\n",
       "      <td>31258</td>\n",
       "      <td>Lincoln Memorial</td>\n",
       "      <td>31270</td>\n",
       "      <td>8th &amp; D St NW</td>\n",
       "      <td>W00894</td>\n",
       "      <td>Casual</td>\n",
       "    </tr>\n",
       "    <tr>\n",
       "      <th>2</th>\n",
       "      <td>1356</td>\n",
       "      <td>2017-01-01 00:07:10</td>\n",
       "      <td>2017-01-01 00:29:47</td>\n",
       "      <td>31289</td>\n",
       "      <td>Henry Bacon Dr &amp; Lincoln Memorial Circle NW</td>\n",
       "      <td>31222</td>\n",
       "      <td>New York Ave &amp; 15th St NW</td>\n",
       "      <td>W21945</td>\n",
       "      <td>Casual</td>\n",
       "    </tr>\n",
       "    <tr>\n",
       "      <th>3</th>\n",
       "      <td>1327</td>\n",
       "      <td>2017-01-01 00:07:22</td>\n",
       "      <td>2017-01-01 00:29:30</td>\n",
       "      <td>31289</td>\n",
       "      <td>Henry Bacon Dr &amp; Lincoln Memorial Circle NW</td>\n",
       "      <td>31222</td>\n",
       "      <td>New York Ave &amp; 15th St NW</td>\n",
       "      <td>W20012</td>\n",
       "      <td>Casual</td>\n",
       "    </tr>\n",
       "    <tr>\n",
       "      <th>4</th>\n",
       "      <td>1636</td>\n",
       "      <td>2017-01-01 00:07:36</td>\n",
       "      <td>2017-01-01 00:34:52</td>\n",
       "      <td>31258</td>\n",
       "      <td>Lincoln Memorial</td>\n",
       "      <td>31270</td>\n",
       "      <td>8th &amp; D St NW</td>\n",
       "      <td>W22786</td>\n",
       "      <td>Casual</td>\n",
       "    </tr>\n",
       "  </tbody>\n",
       "</table>\n",
       "</div>"
      ],
      "text/plain": [
       "   Duration           Start Date             End Date  Start Station Number  \\\n",
       "0       221  2017-01-01 00:00:41  2017-01-01 00:04:23                 31634   \n",
       "1      1676  2017-01-01 00:06:53  2017-01-01 00:34:49                 31258   \n",
       "2      1356  2017-01-01 00:07:10  2017-01-01 00:29:47                 31289   \n",
       "3      1327  2017-01-01 00:07:22  2017-01-01 00:29:30                 31289   \n",
       "4      1636  2017-01-01 00:07:36  2017-01-01 00:34:52                 31258   \n",
       "\n",
       "                            Start Station Name  End Station Number  \\\n",
       "0                           3rd & Tingey St SE               31208   \n",
       "1                             Lincoln Memorial               31270   \n",
       "2  Henry Bacon Dr & Lincoln Memorial Circle NW               31222   \n",
       "3  Henry Bacon Dr & Lincoln Memorial Circle NW               31222   \n",
       "4                             Lincoln Memorial               31270   \n",
       "\n",
       "            End Station Name Bike Number Member Type  \n",
       "0   M St & New Jersey Ave SE      W00869      Member  \n",
       "1              8th & D St NW      W00894      Casual  \n",
       "2  New York Ave & 15th St NW      W21945      Casual  \n",
       "3  New York Ave & 15th St NW      W20012      Casual  \n",
       "4              8th & D St NW      W22786      Casual  "
      ]
     },
     "execution_count": 16,
     "metadata": {},
     "output_type": "execute_result"
    }
   ],
   "source": [
    "dataframe_washington.head()"
   ]
  },
  {
   "cell_type": "code",
   "execution_count": 17,
   "metadata": {},
   "outputs": [
    {
     "name": "stdout",
     "output_type": "stream",
     "text": [
      "<class 'pandas.core.frame.DataFrame'>\n",
      "RangeIndex: 646510 entries, 0 to 646509\n",
      "Data columns (total 9 columns):\n",
      "Duration                646510 non-null int64\n",
      "Start Date              646510 non-null object\n",
      "End Date                646510 non-null object\n",
      "Start Station Number    646510 non-null int64\n",
      "Start Station Name      646510 non-null object\n",
      "End Station Number      646510 non-null int64\n",
      "End Station Name        646510 non-null object\n",
      "Bike Number             646510 non-null object\n",
      "Member Type             646510 non-null object\n",
      "dtypes: int64(3), object(6)\n",
      "memory usage: 44.4+ MB\n"
     ]
    }
   ],
   "source": [
    "dataframe_washington.info()"
   ]
  },
  {
   "cell_type": "code",
   "execution_count": 18,
   "metadata": {},
   "outputs": [],
   "source": [
    "# We can strip the 'W' from the Bike Numbers to convert it into an Integer which we can then add to our visualisation \n",
    "# Data manipulation for later.\n",
    "dataframe_washington['Bike Number'] = dataframe_washington['Bike Number'].str[1:]"
   ]
  },
  {
   "cell_type": "code",
   "execution_count": 19,
   "metadata": {},
   "outputs": [
    {
     "name": "stdout",
     "output_type": "stream",
     "text": [
      "        Duration           Start Date             End Date  \\\n",
      "51884       4756  2017-01-12 09:11:13  2017-01-12 10:30:29   \n",
      "52358       1872  2017-01-12 10:36:32  2017-01-12 11:07:45   \n",
      "130357       490  2017-01-25 13:07:42  2017-01-25 13:15:52   \n",
      "145330      7077  2017-01-27 08:30:55  2017-01-27 10:28:53   \n",
      "218827      2529  2017-02-07 10:32:38  2017-02-07 11:14:47   \n",
      "228772      2470  2017-02-08 09:52:07  2017-02-08 10:33:18   \n",
      "268213     77023  2017-02-14 11:14:44  2017-02-15 08:38:28   \n",
      "275600      2374  2017-02-15 10:02:10  2017-02-15 10:41:44   \n",
      "283135      3490  2017-02-16 12:05:23  2017-02-16 13:03:34   \n",
      "347404      2097  2017-02-23 08:12:49  2017-02-23 08:47:46   \n",
      "348846      9067  2017-02-23 09:38:55  2017-02-23 12:10:03   \n",
      "515949      3107  2017-03-18 10:24:11  2017-03-18 11:15:58   \n",
      "551769       298  2017-03-22 10:58:34  2017-03-22 11:03:32   \n",
      "643328      5164  2017-03-31 08:59:10  2017-03-31 10:25:14   \n",
      "\n",
      "        Start Station Number  \\\n",
      "51884                  31082   \n",
      "52358                  31258   \n",
      "130357                 31101   \n",
      "145330                 31218   \n",
      "218827                 31071   \n",
      "228772                 31613   \n",
      "268213                 31613   \n",
      "275600                 31275   \n",
      "283135                 31640   \n",
      "347404                 31241   \n",
      "348846                 31243   \n",
      "515949                 31247   \n",
      "551769                 31258   \n",
      "643328                 31258   \n",
      "\n",
      "                                       Start Station Name  End Station Number  \\\n",
      "51884                       Eisenhower Ave & Mill Race Ln               31258   \n",
      "52358                                    Lincoln Memorial               31030   \n",
      "130357                                     14th & V St NW               31101   \n",
      "145330                     L'Enfant Plaza / 7th & C St SW               31269   \n",
      "218827         Long Bridge Park/Long Bridge Dr & 6th St S               31247   \n",
      "228772  Eastern Market Metro / Pennsylvania Ave & 7th ...               31629   \n",
      "268213  Eastern Market Metro / Pennsylvania Ave & 7th ...               31215   \n",
      "275600                     New Hampshire Ave & 24th St NW               31253   \n",
      "283135                             Maryland Ave & E St NE               31400   \n",
      "347404                                      Thomas Circle               31276   \n",
      "348846                                      4th & C St SW               31606   \n",
      "515949                          Jefferson Dr & 14th St SW               31029   \n",
      "551769                                   Lincoln Memorial               31258   \n",
      "643328                                   Lincoln Memorial               31301   \n",
      "\n",
      "                         End Station Name  Bike Number Member Type  \n",
      "51884                    Lincoln Memorial          NaN      Member  \n",
      "52358                Lee Hwy & N Adams St          NaN      Member  \n",
      "130357                     14th & V St NW          NaN      Member  \n",
      "145330       3rd St & Pennsylvania Ave SE          NaN      Member  \n",
      "218827          Jefferson Dr & 14th St SW          NaN      Member  \n",
      "228772           8th & East Capitol St NE          NaN      Member  \n",
      "268213     Georgetown Harbor / 30th St NW          NaN      Member  \n",
      "275600                     19th & K St NW          NaN      Member  \n",
      "283135     Georgia & New Hampshire Ave NW          NaN      Member  \n",
      "347404                     15th & L St NW          NaN      Member  \n",
      "348846      Potomac & Pennsylvania Ave SE          NaN      Member  \n",
      "515949              N Veitch  & 20th St N          NaN      Member  \n",
      "551769                   Lincoln Memorial          NaN      Member  \n",
      "643328  Ward Circle / American University          NaN      Member  \n"
     ]
    }
   ],
   "source": [
    "# The problematic rows were identified\n",
    "dataframe_washington['Bike Number'] = pd.to_numeric(dataframe_washington['Bike Number'], errors='coerce')\n",
    "print (dataframe_washington[ pd.to_numeric(dataframe_washington['Bike Number'], errors='coerce').isnull()])"
   ]
  },
  {
   "cell_type": "code",
   "execution_count": 20,
   "metadata": {},
   "outputs": [],
   "source": [
    "# Filled all the NaN rows with 0 for Bike Number.\n",
    "dataframe_washington = dataframe_washington.fillna(0)"
   ]
  },
  {
   "cell_type": "code",
   "execution_count": 21,
   "metadata": {},
   "outputs": [],
   "source": [
    "# I now converted the Bike Number column to integer so we can add it to our data analysis.\n",
    "dataframe_washington['Bike Number'] = dataframe_washington['Bike Number'].astype(int)"
   ]
  },
  {
   "cell_type": "code",
   "execution_count": 22,
   "metadata": {},
   "outputs": [
    {
     "name": "stdout",
     "output_type": "stream",
     "text": [
      "<class 'pandas.core.frame.DataFrame'>\n",
      "RangeIndex: 646510 entries, 0 to 646509\n",
      "Data columns (total 9 columns):\n",
      "Duration                646510 non-null int64\n",
      "Start Date              646510 non-null object\n",
      "End Date                646510 non-null object\n",
      "Start Station Number    646510 non-null int64\n",
      "Start Station Name      646510 non-null object\n",
      "End Station Number      646510 non-null int64\n",
      "End Station Name        646510 non-null object\n",
      "Bike Number             646510 non-null int64\n",
      "Member Type             646510 non-null object\n",
      "dtypes: int64(4), object(5)\n",
      "memory usage: 44.4+ MB\n"
     ]
    }
   ],
   "source": [
    "dataframe_washington.info()"
   ]
  },
  {
   "cell_type": "code",
   "execution_count": 23,
   "metadata": {},
   "outputs": [
    {
     "data": {
      "text/plain": [
       "Member    528434\n",
       "Casual    118076\n",
       "Name: Member Type, dtype: int64"
      ]
     },
     "execution_count": 23,
     "metadata": {},
     "output_type": "execute_result"
    }
   ],
   "source": [
    "# We know that the Member Type column has only two categories `members` and `casual`, we can use the .value_counts()\n",
    "# method to explore further.\n",
    "dataframe_washington['Member Type'].value_counts()"
   ]
  },
  {
   "cell_type": "code",
   "execution_count": 24,
   "metadata": {},
   "outputs": [
    {
     "data": {
      "text/plain": [
       "Columbus Circle / Union Station                          13712\n",
       "Massachusetts Ave & Dupont Circle NW                      9071\n",
       "15th & P St NW                                            8195\n",
       "Jefferson Dr & 14th St SW                                 8026\n",
       "Lincoln Memorial                                          7876\n",
       "Thomas Circle                                             7211\n",
       "New Hampshire Ave & T St NW                               6607\n",
       "14th & V St NW                                            6563\n",
       "Eastern Market Metro / Pennsylvania Ave & 7th St SE       5907\n",
       "5th & K St NW                                             5846\n",
       "1st & M St NE                                             5777\n",
       "Jefferson Memorial                                        5707\n",
       "North Capitol St & F St NW                                5506\n",
       "14th & Rhode Island Ave NW                                5369\n",
       "Smithsonian-National Mall / Jefferson Dr & 12th St SW     5364\n",
       "17th & Corcoran St NW                                     5326\n",
       "4th St & Madison Dr NW                                    5010\n",
       "Adams Mill & Columbia Rd NW                               4904\n",
       "8th & O St NW                                             4881\n",
       "14th & R St NW                                            4845\n",
       "8th & H St NW                                             4757\n",
       "Henry Bacon Dr & Lincoln Memorial Circle NW               4743\n",
       "5th St & Massachusetts Ave NW                             4690\n",
       "21st & M St NW                                            4627\n",
       "14th & Irving St NW                                       4567\n",
       "New York Ave & 15th St NW                                 4558\n",
       "20th St & Florida Ave NW                                  4553\n",
       "17th St & Massachusetts Ave NW                            4533\n",
       "7th & T St NW                                             4501\n",
       "18th & R St NW                                            4446\n",
       "                                                         ...  \n",
       "South Capitol & Atlantic St SW                              32\n",
       "18th & Monroe St NE                                         31\n",
       "Jones Branch & Westbranch Dr                                29\n",
       "Randle Circle & Minnesota Ave SE                            29\n",
       "Nannie Helen Burroughs & Minnesota Ave NE                   28\n",
       "Westpark Dr & Leesburg Pike                                 26\n",
       "Spring Hill Metro                                           25\n",
       "Amherst Ave & Prichard Rd                                   25\n",
       "Tysons West Transit Center                                  24\n",
       "Fallsgrove Dr & W Montgomery Ave                            24\n",
       "North Shore Dr & Village Rd                                 23\n",
       "Reston YMCA                                                 22\n",
       "Windham Ln & Amherst Ave                                    22\n",
       "S Oakland St & Columbia Pike                                22\n",
       "Division Ave & Foote St NE                                  21\n",
       "North Shore & Cameron Crescent Dr/Crescent Apartments       20\n",
       "Medical Center Dr & Key West Ave                            20\n",
       "Greensboro & International Dr                               18\n",
       "Takoma Park Rec Center                                      17\n",
       "Solutions & Greensboro Dr                                   17\n",
       "Town Center Pkwy & Bowman Towne Dr                          16\n",
       "Towers Crescent Dr & Tysons One Pl                          16\n",
       "Shady Grove Hospital                                        14\n",
       "61st St & Banks Pl NE                                       12\n",
       "New Hampshire & Kirklynn Ave                                12\n",
       "Taft St & E Gude Dr                                          9\n",
       "Traville Gateway Dr & Gudelsky Dr                            7\n",
       "Deanwood Rec Center                                          3\n",
       "Reston Regional Library                                      3\n",
       "Broschart & Blackwell Rd                                     3\n",
       "Name: Start Station Name, Length: 452, dtype: int64"
      ]
     },
     "execution_count": 24,
     "metadata": {},
     "output_type": "execute_result"
    }
   ],
   "source": [
    "# We can also run value_countr() on the stations because we have repetitive values:\n",
    "dataframe_washington['Start Station Name'].value_counts()"
   ]
  },
  {
   "cell_type": "markdown",
   "metadata": {},
   "source": [
    "## Lets run some queries"
   ]
  },
  {
   "cell_type": "code",
   "execution_count": 25,
   "metadata": {},
   "outputs": [
    {
     "data": {
      "text/html": [
       "<div>\n",
       "<style scoped>\n",
       "    .dataframe tbody tr th:only-of-type {\n",
       "        vertical-align: middle;\n",
       "    }\n",
       "\n",
       "    .dataframe tbody tr th {\n",
       "        vertical-align: top;\n",
       "    }\n",
       "\n",
       "    .dataframe thead th {\n",
       "        text-align: right;\n",
       "    }\n",
       "</style>\n",
       "<table border=\"1\" class=\"dataframe\">\n",
       "  <thead>\n",
       "    <tr style=\"text-align: right;\">\n",
       "      <th></th>\n",
       "      <th>Duration</th>\n",
       "      <th>Start Date</th>\n",
       "      <th>End Date</th>\n",
       "      <th>Start Station Number</th>\n",
       "      <th>Start Station Name</th>\n",
       "      <th>End Station Number</th>\n",
       "      <th>End Station Name</th>\n",
       "      <th>Bike Number</th>\n",
       "      <th>Member Type</th>\n",
       "    </tr>\n",
       "  </thead>\n",
       "  <tbody>\n",
       "    <tr>\n",
       "      <th>1</th>\n",
       "      <td>1676</td>\n",
       "      <td>2017-01-01 00:06:53</td>\n",
       "      <td>2017-01-01 00:34:49</td>\n",
       "      <td>31258</td>\n",
       "      <td>Lincoln Memorial</td>\n",
       "      <td>31270</td>\n",
       "      <td>8th &amp; D St NW</td>\n",
       "      <td>894</td>\n",
       "      <td>Casual</td>\n",
       "    </tr>\n",
       "    <tr>\n",
       "      <th>4</th>\n",
       "      <td>1636</td>\n",
       "      <td>2017-01-01 00:07:36</td>\n",
       "      <td>2017-01-01 00:34:52</td>\n",
       "      <td>31258</td>\n",
       "      <td>Lincoln Memorial</td>\n",
       "      <td>31270</td>\n",
       "      <td>8th &amp; D St NW</td>\n",
       "      <td>22786</td>\n",
       "      <td>Casual</td>\n",
       "    </tr>\n",
       "    <tr>\n",
       "      <th>5</th>\n",
       "      <td>1603</td>\n",
       "      <td>2017-01-01 00:08:11</td>\n",
       "      <td>2017-01-01 00:34:55</td>\n",
       "      <td>31258</td>\n",
       "      <td>Lincoln Memorial</td>\n",
       "      <td>31270</td>\n",
       "      <td>8th &amp; D St NW</td>\n",
       "      <td>20890</td>\n",
       "      <td>Casual</td>\n",
       "    </tr>\n",
       "    <tr>\n",
       "      <th>24</th>\n",
       "      <td>36943</td>\n",
       "      <td>2017-01-01 00:25:42</td>\n",
       "      <td>2017-01-01 10:41:26</td>\n",
       "      <td>31258</td>\n",
       "      <td>Lincoln Memorial</td>\n",
       "      <td>31286</td>\n",
       "      <td>11th &amp; O St NW</td>\n",
       "      <td>20716</td>\n",
       "      <td>Casual</td>\n",
       "    </tr>\n",
       "    <tr>\n",
       "      <th>25</th>\n",
       "      <td>1903</td>\n",
       "      <td>2017-01-01 00:25:43</td>\n",
       "      <td>2017-01-01 00:57:27</td>\n",
       "      <td>31258</td>\n",
       "      <td>Lincoln Memorial</td>\n",
       "      <td>31281</td>\n",
       "      <td>8th &amp; O St NW</td>\n",
       "      <td>367</td>\n",
       "      <td>Casual</td>\n",
       "    </tr>\n",
       "    <tr>\n",
       "      <th>294</th>\n",
       "      <td>1040</td>\n",
       "      <td>2017-01-01 08:22:12</td>\n",
       "      <td>2017-01-01 08:39:32</td>\n",
       "      <td>31258</td>\n",
       "      <td>Lincoln Memorial</td>\n",
       "      <td>31283</td>\n",
       "      <td>14th &amp; L St NW</td>\n",
       "      <td>765</td>\n",
       "      <td>Member</td>\n",
       "    </tr>\n",
       "    <tr>\n",
       "      <th>297</th>\n",
       "      <td>1606</td>\n",
       "      <td>2017-01-01 08:25:26</td>\n",
       "      <td>2017-01-01 08:52:12</td>\n",
       "      <td>31258</td>\n",
       "      <td>Lincoln Memorial</td>\n",
       "      <td>31222</td>\n",
       "      <td>New York Ave &amp; 15th St NW</td>\n",
       "      <td>21808</td>\n",
       "      <td>Member</td>\n",
       "    </tr>\n",
       "    <tr>\n",
       "      <th>301</th>\n",
       "      <td>1527</td>\n",
       "      <td>2017-01-01 08:31:57</td>\n",
       "      <td>2017-01-01 08:57:24</td>\n",
       "      <td>31258</td>\n",
       "      <td>Lincoln Memorial</td>\n",
       "      <td>31641</td>\n",
       "      <td>2nd St &amp; Massachusetts Ave NE</td>\n",
       "      <td>20507</td>\n",
       "      <td>Member</td>\n",
       "    </tr>\n",
       "    <tr>\n",
       "      <th>539</th>\n",
       "      <td>2717</td>\n",
       "      <td>2017-01-01 10:37:26</td>\n",
       "      <td>2017-01-01 11:22:43</td>\n",
       "      <td>31258</td>\n",
       "      <td>Lincoln Memorial</td>\n",
       "      <td>31258</td>\n",
       "      <td>Lincoln Memorial</td>\n",
       "      <td>1339</td>\n",
       "      <td>Casual</td>\n",
       "    </tr>\n",
       "    <tr>\n",
       "      <th>554</th>\n",
       "      <td>2504</td>\n",
       "      <td>2017-01-01 10:40:31</td>\n",
       "      <td>2017-01-01 11:22:16</td>\n",
       "      <td>31258</td>\n",
       "      <td>Lincoln Memorial</td>\n",
       "      <td>31258</td>\n",
       "      <td>Lincoln Memorial</td>\n",
       "      <td>1271</td>\n",
       "      <td>Casual</td>\n",
       "    </tr>\n",
       "    <tr>\n",
       "      <th>562</th>\n",
       "      <td>2575</td>\n",
       "      <td>2017-01-01 10:43:20</td>\n",
       "      <td>2017-01-01 11:26:15</td>\n",
       "      <td>31258</td>\n",
       "      <td>Lincoln Memorial</td>\n",
       "      <td>31288</td>\n",
       "      <td>4th St &amp; Madison Dr NW</td>\n",
       "      <td>21922</td>\n",
       "      <td>Casual</td>\n",
       "    </tr>\n",
       "    <tr>\n",
       "      <th>564</th>\n",
       "      <td>2561</td>\n",
       "      <td>2017-01-01 10:43:28</td>\n",
       "      <td>2017-01-01 11:26:09</td>\n",
       "      <td>31258</td>\n",
       "      <td>Lincoln Memorial</td>\n",
       "      <td>31288</td>\n",
       "      <td>4th St &amp; Madison Dr NW</td>\n",
       "      <td>22873</td>\n",
       "      <td>Casual</td>\n",
       "    </tr>\n",
       "    <tr>\n",
       "      <th>623</th>\n",
       "      <td>1834</td>\n",
       "      <td>2017-01-01 11:06:15</td>\n",
       "      <td>2017-01-01 11:36:49</td>\n",
       "      <td>31258</td>\n",
       "      <td>Lincoln Memorial</td>\n",
       "      <td>31249</td>\n",
       "      <td>Jefferson Memorial</td>\n",
       "      <td>311</td>\n",
       "      <td>Casual</td>\n",
       "    </tr>\n",
       "    <tr>\n",
       "      <th>624</th>\n",
       "      <td>1816</td>\n",
       "      <td>2017-01-01 11:06:20</td>\n",
       "      <td>2017-01-01 11:36:37</td>\n",
       "      <td>31258</td>\n",
       "      <td>Lincoln Memorial</td>\n",
       "      <td>31249</td>\n",
       "      <td>Jefferson Memorial</td>\n",
       "      <td>20962</td>\n",
       "      <td>Casual</td>\n",
       "    </tr>\n",
       "    <tr>\n",
       "      <th>630</th>\n",
       "      <td>930</td>\n",
       "      <td>2017-01-01 11:08:30</td>\n",
       "      <td>2017-01-01 11:24:00</td>\n",
       "      <td>31258</td>\n",
       "      <td>Lincoln Memorial</td>\n",
       "      <td>31247</td>\n",
       "      <td>Jefferson Dr &amp; 14th St SW</td>\n",
       "      <td>20583</td>\n",
       "      <td>Casual</td>\n",
       "    </tr>\n",
       "    <tr>\n",
       "      <th>633</th>\n",
       "      <td>900</td>\n",
       "      <td>2017-01-01 11:09:01</td>\n",
       "      <td>2017-01-01 11:24:01</td>\n",
       "      <td>31258</td>\n",
       "      <td>Lincoln Memorial</td>\n",
       "      <td>31247</td>\n",
       "      <td>Jefferson Dr &amp; 14th St SW</td>\n",
       "      <td>22230</td>\n",
       "      <td>Casual</td>\n",
       "    </tr>\n",
       "    <tr>\n",
       "      <th>639</th>\n",
       "      <td>1439</td>\n",
       "      <td>2017-01-01 11:10:32</td>\n",
       "      <td>2017-01-01 11:34:32</td>\n",
       "      <td>31258</td>\n",
       "      <td>Lincoln Memorial</td>\n",
       "      <td>31204</td>\n",
       "      <td>20th &amp; E St NW</td>\n",
       "      <td>21209</td>\n",
       "      <td>Casual</td>\n",
       "    </tr>\n",
       "    <tr>\n",
       "      <th>716</th>\n",
       "      <td>713</td>\n",
       "      <td>2017-01-01 11:30:15</td>\n",
       "      <td>2017-01-01 11:42:08</td>\n",
       "      <td>31258</td>\n",
       "      <td>Lincoln Memorial</td>\n",
       "      <td>31249</td>\n",
       "      <td>Jefferson Memorial</td>\n",
       "      <td>1339</td>\n",
       "      <td>Casual</td>\n",
       "    </tr>\n",
       "    <tr>\n",
       "      <th>718</th>\n",
       "      <td>696</td>\n",
       "      <td>2017-01-01 11:30:30</td>\n",
       "      <td>2017-01-01 11:42:06</td>\n",
       "      <td>31258</td>\n",
       "      <td>Lincoln Memorial</td>\n",
       "      <td>31249</td>\n",
       "      <td>Jefferson Memorial</td>\n",
       "      <td>112</td>\n",
       "      <td>Casual</td>\n",
       "    </tr>\n",
       "    <tr>\n",
       "      <th>758</th>\n",
       "      <td>7873</td>\n",
       "      <td>2017-01-01 11:37:34</td>\n",
       "      <td>2017-01-01 13:48:48</td>\n",
       "      <td>31258</td>\n",
       "      <td>Lincoln Memorial</td>\n",
       "      <td>31258</td>\n",
       "      <td>Lincoln Memorial</td>\n",
       "      <td>20986</td>\n",
       "      <td>Casual</td>\n",
       "    </tr>\n",
       "    <tr>\n",
       "      <th>765</th>\n",
       "      <td>2708</td>\n",
       "      <td>2017-01-01 11:38:52</td>\n",
       "      <td>2017-01-01 12:24:01</td>\n",
       "      <td>31258</td>\n",
       "      <td>Lincoln Memorial</td>\n",
       "      <td>31249</td>\n",
       "      <td>Jefferson Memorial</td>\n",
       "      <td>21406</td>\n",
       "      <td>Casual</td>\n",
       "    </tr>\n",
       "    <tr>\n",
       "      <th>778</th>\n",
       "      <td>269</td>\n",
       "      <td>2017-01-01 11:43:10</td>\n",
       "      <td>2017-01-01 11:47:40</td>\n",
       "      <td>31258</td>\n",
       "      <td>Lincoln Memorial</td>\n",
       "      <td>31258</td>\n",
       "      <td>Lincoln Memorial</td>\n",
       "      <td>1271</td>\n",
       "      <td>Casual</td>\n",
       "    </tr>\n",
       "    <tr>\n",
       "      <th>799</th>\n",
       "      <td>2128</td>\n",
       "      <td>2017-01-01 11:48:22</td>\n",
       "      <td>2017-01-01 12:23:50</td>\n",
       "      <td>31258</td>\n",
       "      <td>Lincoln Memorial</td>\n",
       "      <td>31249</td>\n",
       "      <td>Jefferson Memorial</td>\n",
       "      <td>21726</td>\n",
       "      <td>Casual</td>\n",
       "    </tr>\n",
       "    <tr>\n",
       "      <th>804</th>\n",
       "      <td>2076</td>\n",
       "      <td>2017-01-01 11:49:18</td>\n",
       "      <td>2017-01-01 12:23:55</td>\n",
       "      <td>31258</td>\n",
       "      <td>Lincoln Memorial</td>\n",
       "      <td>31249</td>\n",
       "      <td>Jefferson Memorial</td>\n",
       "      <td>1345</td>\n",
       "      <td>Casual</td>\n",
       "    </tr>\n",
       "    <tr>\n",
       "      <th>812</th>\n",
       "      <td>1459</td>\n",
       "      <td>2017-01-01 11:50:49</td>\n",
       "      <td>2017-01-01 12:15:09</td>\n",
       "      <td>31258</td>\n",
       "      <td>Lincoln Memorial</td>\n",
       "      <td>31077</td>\n",
       "      <td>Iwo Jima Memorial/N Meade &amp; 14th St N</td>\n",
       "      <td>1271</td>\n",
       "      <td>Casual</td>\n",
       "    </tr>\n",
       "    <tr>\n",
       "      <th>817</th>\n",
       "      <td>1435</td>\n",
       "      <td>2017-01-01 11:51:03</td>\n",
       "      <td>2017-01-01 12:14:59</td>\n",
       "      <td>31258</td>\n",
       "      <td>Lincoln Memorial</td>\n",
       "      <td>31077</td>\n",
       "      <td>Iwo Jima Memorial/N Meade &amp; 14th St N</td>\n",
       "      <td>22430</td>\n",
       "      <td>Casual</td>\n",
       "    </tr>\n",
       "    <tr>\n",
       "      <th>963</th>\n",
       "      <td>355</td>\n",
       "      <td>2017-01-01 12:19:42</td>\n",
       "      <td>2017-01-01 12:25:37</td>\n",
       "      <td>31258</td>\n",
       "      <td>Lincoln Memorial</td>\n",
       "      <td>31258</td>\n",
       "      <td>Lincoln Memorial</td>\n",
       "      <td>807</td>\n",
       "      <td>Casual</td>\n",
       "    </tr>\n",
       "    <tr>\n",
       "      <th>1257</th>\n",
       "      <td>12922</td>\n",
       "      <td>2017-01-01 13:03:24</td>\n",
       "      <td>2017-01-01 16:38:46</td>\n",
       "      <td>31258</td>\n",
       "      <td>Lincoln Memorial</td>\n",
       "      <td>31262</td>\n",
       "      <td>11th &amp; F St NW</td>\n",
       "      <td>898</td>\n",
       "      <td>Casual</td>\n",
       "    </tr>\n",
       "    <tr>\n",
       "      <th>1259</th>\n",
       "      <td>12931</td>\n",
       "      <td>2017-01-01 13:03:39</td>\n",
       "      <td>2017-01-01 16:39:11</td>\n",
       "      <td>31258</td>\n",
       "      <td>Lincoln Memorial</td>\n",
       "      <td>31262</td>\n",
       "      <td>11th &amp; F St NW</td>\n",
       "      <td>412</td>\n",
       "      <td>Casual</td>\n",
       "    </tr>\n",
       "    <tr>\n",
       "      <th>1329</th>\n",
       "      <td>488</td>\n",
       "      <td>2017-01-01 13:17:10</td>\n",
       "      <td>2017-01-01 13:25:18</td>\n",
       "      <td>31258</td>\n",
       "      <td>Lincoln Memorial</td>\n",
       "      <td>31247</td>\n",
       "      <td>Jefferson Dr &amp; 14th St SW</td>\n",
       "      <td>21836</td>\n",
       "      <td>Member</td>\n",
       "    </tr>\n",
       "    <tr>\n",
       "      <th>...</th>\n",
       "      <td>...</td>\n",
       "      <td>...</td>\n",
       "      <td>...</td>\n",
       "      <td>...</td>\n",
       "      <td>...</td>\n",
       "      <td>...</td>\n",
       "      <td>...</td>\n",
       "      <td>...</td>\n",
       "      <td>...</td>\n",
       "    </tr>\n",
       "    <tr>\n",
       "      <th>642113</th>\n",
       "      <td>869</td>\n",
       "      <td>2017-03-30 20:51:52</td>\n",
       "      <td>2017-03-30 21:06:22</td>\n",
       "      <td>31258</td>\n",
       "      <td>Lincoln Memorial</td>\n",
       "      <td>31205</td>\n",
       "      <td>21st &amp; I St NW</td>\n",
       "      <td>22664</td>\n",
       "      <td>Casual</td>\n",
       "    </tr>\n",
       "    <tr>\n",
       "      <th>642182</th>\n",
       "      <td>2535</td>\n",
       "      <td>2017-03-30 21:08:11</td>\n",
       "      <td>2017-03-30 21:50:27</td>\n",
       "      <td>31258</td>\n",
       "      <td>Lincoln Memorial</td>\n",
       "      <td>31114</td>\n",
       "      <td>18th St &amp; Wyoming Ave NW</td>\n",
       "      <td>20166</td>\n",
       "      <td>Casual</td>\n",
       "    </tr>\n",
       "    <tr>\n",
       "      <th>642274</th>\n",
       "      <td>567</td>\n",
       "      <td>2017-03-30 21:24:56</td>\n",
       "      <td>2017-03-30 21:34:23</td>\n",
       "      <td>31258</td>\n",
       "      <td>Lincoln Memorial</td>\n",
       "      <td>31247</td>\n",
       "      <td>Jefferson Dr &amp; 14th St SW</td>\n",
       "      <td>1439</td>\n",
       "      <td>Member</td>\n",
       "    </tr>\n",
       "    <tr>\n",
       "      <th>642695</th>\n",
       "      <td>1526</td>\n",
       "      <td>2017-03-30 23:38:31</td>\n",
       "      <td>2017-03-31 00:03:57</td>\n",
       "      <td>31258</td>\n",
       "      <td>Lincoln Memorial</td>\n",
       "      <td>31091</td>\n",
       "      <td>S Joyce &amp; 16th St S</td>\n",
       "      <td>22224</td>\n",
       "      <td>Member</td>\n",
       "    </tr>\n",
       "    <tr>\n",
       "      <th>642702</th>\n",
       "      <td>1041</td>\n",
       "      <td>2017-03-30 23:44:42</td>\n",
       "      <td>2017-03-31 00:02:03</td>\n",
       "      <td>31258</td>\n",
       "      <td>Lincoln Memorial</td>\n",
       "      <td>31200</td>\n",
       "      <td>Massachusetts Ave &amp; Dupont Circle NW</td>\n",
       "      <td>724</td>\n",
       "      <td>Casual</td>\n",
       "    </tr>\n",
       "    <tr>\n",
       "      <th>642807</th>\n",
       "      <td>1388</td>\n",
       "      <td>2017-03-31 05:56:21</td>\n",
       "      <td>2017-03-31 06:19:30</td>\n",
       "      <td>31258</td>\n",
       "      <td>Lincoln Memorial</td>\n",
       "      <td>31624</td>\n",
       "      <td>North Capitol St &amp; F St NW</td>\n",
       "      <td>1096</td>\n",
       "      <td>Member</td>\n",
       "    </tr>\n",
       "    <tr>\n",
       "      <th>643046</th>\n",
       "      <td>1073</td>\n",
       "      <td>2017-03-31 07:53:21</td>\n",
       "      <td>2017-03-31 08:11:15</td>\n",
       "      <td>31258</td>\n",
       "      <td>Lincoln Memorial</td>\n",
       "      <td>31621</td>\n",
       "      <td>4th &amp; D St NW / Judiciary Square</td>\n",
       "      <td>22251</td>\n",
       "      <td>Member</td>\n",
       "    </tr>\n",
       "    <tr>\n",
       "      <th>643328</th>\n",
       "      <td>5164</td>\n",
       "      <td>2017-03-31 08:59:10</td>\n",
       "      <td>2017-03-31 10:25:14</td>\n",
       "      <td>31258</td>\n",
       "      <td>Lincoln Memorial</td>\n",
       "      <td>31301</td>\n",
       "      <td>Ward Circle / American University</td>\n",
       "      <td>0</td>\n",
       "      <td>Member</td>\n",
       "    </tr>\n",
       "    <tr>\n",
       "      <th>643555</th>\n",
       "      <td>906</td>\n",
       "      <td>2017-03-31 12:10:10</td>\n",
       "      <td>2017-03-31 12:25:17</td>\n",
       "      <td>31258</td>\n",
       "      <td>Lincoln Memorial</td>\n",
       "      <td>31247</td>\n",
       "      <td>Jefferson Dr &amp; 14th St SW</td>\n",
       "      <td>22128</td>\n",
       "      <td>Casual</td>\n",
       "    </tr>\n",
       "    <tr>\n",
       "      <th>643556</th>\n",
       "      <td>899</td>\n",
       "      <td>2017-03-31 12:10:15</td>\n",
       "      <td>2017-03-31 12:25:15</td>\n",
       "      <td>31258</td>\n",
       "      <td>Lincoln Memorial</td>\n",
       "      <td>31247</td>\n",
       "      <td>Jefferson Dr &amp; 14th St SW</td>\n",
       "      <td>560</td>\n",
       "      <td>Casual</td>\n",
       "    </tr>\n",
       "    <tr>\n",
       "      <th>644138</th>\n",
       "      <td>3172</td>\n",
       "      <td>2017-03-31 16:13:12</td>\n",
       "      <td>2017-03-31 17:06:04</td>\n",
       "      <td>31258</td>\n",
       "      <td>Lincoln Memorial</td>\n",
       "      <td>31231</td>\n",
       "      <td>14th &amp; D St NW / Ronald Reagan Building</td>\n",
       "      <td>20266</td>\n",
       "      <td>Casual</td>\n",
       "    </tr>\n",
       "    <tr>\n",
       "      <th>644139</th>\n",
       "      <td>3163</td>\n",
       "      <td>2017-03-31 16:13:24</td>\n",
       "      <td>2017-03-31 17:06:07</td>\n",
       "      <td>31258</td>\n",
       "      <td>Lincoln Memorial</td>\n",
       "      <td>31231</td>\n",
       "      <td>14th &amp; D St NW / Ronald Reagan Building</td>\n",
       "      <td>22120</td>\n",
       "      <td>Casual</td>\n",
       "    </tr>\n",
       "    <tr>\n",
       "      <th>644143</th>\n",
       "      <td>3150</td>\n",
       "      <td>2017-03-31 16:13:42</td>\n",
       "      <td>2017-03-31 17:06:13</td>\n",
       "      <td>31258</td>\n",
       "      <td>Lincoln Memorial</td>\n",
       "      <td>31231</td>\n",
       "      <td>14th &amp; D St NW / Ronald Reagan Building</td>\n",
       "      <td>20119</td>\n",
       "      <td>Casual</td>\n",
       "    </tr>\n",
       "    <tr>\n",
       "      <th>644146</th>\n",
       "      <td>5486</td>\n",
       "      <td>2017-03-31 16:14:12</td>\n",
       "      <td>2017-03-31 17:45:38</td>\n",
       "      <td>31258</td>\n",
       "      <td>Lincoln Memorial</td>\n",
       "      <td>31231</td>\n",
       "      <td>14th &amp; D St NW / Ronald Reagan Building</td>\n",
       "      <td>888</td>\n",
       "      <td>Casual</td>\n",
       "    </tr>\n",
       "    <tr>\n",
       "      <th>644917</th>\n",
       "      <td>1187</td>\n",
       "      <td>2017-03-31 17:33:39</td>\n",
       "      <td>2017-03-31 17:53:27</td>\n",
       "      <td>31258</td>\n",
       "      <td>Lincoln Memorial</td>\n",
       "      <td>31265</td>\n",
       "      <td>5th St &amp; Massachusetts Ave NW</td>\n",
       "      <td>21052</td>\n",
       "      <td>Member</td>\n",
       "    </tr>\n",
       "    <tr>\n",
       "      <th>644919</th>\n",
       "      <td>1160</td>\n",
       "      <td>2017-03-31 17:34:02</td>\n",
       "      <td>2017-03-31 17:53:23</td>\n",
       "      <td>31258</td>\n",
       "      <td>Lincoln Memorial</td>\n",
       "      <td>31265</td>\n",
       "      <td>5th St &amp; Massachusetts Ave NW</td>\n",
       "      <td>1444</td>\n",
       "      <td>Member</td>\n",
       "    </tr>\n",
       "    <tr>\n",
       "      <th>644960</th>\n",
       "      <td>1593</td>\n",
       "      <td>2017-03-31 17:37:35</td>\n",
       "      <td>2017-03-31 18:04:09</td>\n",
       "      <td>31258</td>\n",
       "      <td>Lincoln Memorial</td>\n",
       "      <td>31249</td>\n",
       "      <td>Jefferson Memorial</td>\n",
       "      <td>672</td>\n",
       "      <td>Casual</td>\n",
       "    </tr>\n",
       "    <tr>\n",
       "      <th>644963</th>\n",
       "      <td>1589</td>\n",
       "      <td>2017-03-31 17:37:41</td>\n",
       "      <td>2017-03-31 18:04:10</td>\n",
       "      <td>31258</td>\n",
       "      <td>Lincoln Memorial</td>\n",
       "      <td>31249</td>\n",
       "      <td>Jefferson Memorial</td>\n",
       "      <td>21021</td>\n",
       "      <td>Casual</td>\n",
       "    </tr>\n",
       "    <tr>\n",
       "      <th>644969</th>\n",
       "      <td>1579</td>\n",
       "      <td>2017-03-31 17:38:02</td>\n",
       "      <td>2017-03-31 18:04:21</td>\n",
       "      <td>31258</td>\n",
       "      <td>Lincoln Memorial</td>\n",
       "      <td>31249</td>\n",
       "      <td>Jefferson Memorial</td>\n",
       "      <td>22616</td>\n",
       "      <td>Casual</td>\n",
       "    </tr>\n",
       "    <tr>\n",
       "      <th>644982</th>\n",
       "      <td>1506</td>\n",
       "      <td>2017-03-31 17:38:58</td>\n",
       "      <td>2017-03-31 18:04:04</td>\n",
       "      <td>31258</td>\n",
       "      <td>Lincoln Memorial</td>\n",
       "      <td>31249</td>\n",
       "      <td>Jefferson Memorial</td>\n",
       "      <td>1203</td>\n",
       "      <td>Casual</td>\n",
       "    </tr>\n",
       "    <tr>\n",
       "      <th>645273</th>\n",
       "      <td>3370</td>\n",
       "      <td>2017-03-31 18:01:46</td>\n",
       "      <td>2017-03-31 18:57:57</td>\n",
       "      <td>31258</td>\n",
       "      <td>Lincoln Memorial</td>\n",
       "      <td>31101</td>\n",
       "      <td>14th &amp; V St NW</td>\n",
       "      <td>21944</td>\n",
       "      <td>Casual</td>\n",
       "    </tr>\n",
       "    <tr>\n",
       "      <th>645276</th>\n",
       "      <td>5034</td>\n",
       "      <td>2017-03-31 18:02:05</td>\n",
       "      <td>2017-03-31 19:25:59</td>\n",
       "      <td>31258</td>\n",
       "      <td>Lincoln Memorial</td>\n",
       "      <td>31114</td>\n",
       "      <td>18th St &amp; Wyoming Ave NW</td>\n",
       "      <td>20290</td>\n",
       "      <td>Casual</td>\n",
       "    </tr>\n",
       "    <tr>\n",
       "      <th>645287</th>\n",
       "      <td>1222</td>\n",
       "      <td>2017-03-31 18:02:57</td>\n",
       "      <td>2017-03-31 18:23:19</td>\n",
       "      <td>31258</td>\n",
       "      <td>Lincoln Memorial</td>\n",
       "      <td>31225</td>\n",
       "      <td>C &amp; O Canal &amp; Wisconsin Ave NW</td>\n",
       "      <td>1165</td>\n",
       "      <td>Casual</td>\n",
       "    </tr>\n",
       "    <tr>\n",
       "      <th>645328</th>\n",
       "      <td>1510</td>\n",
       "      <td>2017-03-31 18:05:53</td>\n",
       "      <td>2017-03-31 18:31:03</td>\n",
       "      <td>31258</td>\n",
       "      <td>Lincoln Memorial</td>\n",
       "      <td>31080</td>\n",
       "      <td>Lee Hwy &amp; N Scott St</td>\n",
       "      <td>20369</td>\n",
       "      <td>Member</td>\n",
       "    </tr>\n",
       "    <tr>\n",
       "      <th>645340</th>\n",
       "      <td>2707</td>\n",
       "      <td>2017-03-31 18:07:01</td>\n",
       "      <td>2017-03-31 18:52:09</td>\n",
       "      <td>31258</td>\n",
       "      <td>Lincoln Memorial</td>\n",
       "      <td>31258</td>\n",
       "      <td>Lincoln Memorial</td>\n",
       "      <td>81</td>\n",
       "      <td>Casual</td>\n",
       "    </tr>\n",
       "    <tr>\n",
       "      <th>645345</th>\n",
       "      <td>2745</td>\n",
       "      <td>2017-03-31 18:07:18</td>\n",
       "      <td>2017-03-31 18:53:04</td>\n",
       "      <td>31258</td>\n",
       "      <td>Lincoln Memorial</td>\n",
       "      <td>31258</td>\n",
       "      <td>Lincoln Memorial</td>\n",
       "      <td>23165</td>\n",
       "      <td>Casual</td>\n",
       "    </tr>\n",
       "    <tr>\n",
       "      <th>645481</th>\n",
       "      <td>1239</td>\n",
       "      <td>2017-03-31 18:18:56</td>\n",
       "      <td>2017-03-31 18:39:36</td>\n",
       "      <td>31258</td>\n",
       "      <td>Lincoln Memorial</td>\n",
       "      <td>31284</td>\n",
       "      <td>18th &amp; C St NW</td>\n",
       "      <td>22517</td>\n",
       "      <td>Casual</td>\n",
       "    </tr>\n",
       "    <tr>\n",
       "      <th>645767</th>\n",
       "      <td>579</td>\n",
       "      <td>2017-03-31 18:45:57</td>\n",
       "      <td>2017-03-31 18:55:36</td>\n",
       "      <td>31258</td>\n",
       "      <td>Lincoln Memorial</td>\n",
       "      <td>31248</td>\n",
       "      <td>Smithsonian-National Mall / Jefferson Dr &amp; 12t...</td>\n",
       "      <td>138</td>\n",
       "      <td>Member</td>\n",
       "    </tr>\n",
       "    <tr>\n",
       "      <th>645845</th>\n",
       "      <td>1067</td>\n",
       "      <td>2017-03-31 18:56:19</td>\n",
       "      <td>2017-03-31 19:14:07</td>\n",
       "      <td>31258</td>\n",
       "      <td>Lincoln Memorial</td>\n",
       "      <td>31014</td>\n",
       "      <td>Lynn &amp; 19th St North</td>\n",
       "      <td>21919</td>\n",
       "      <td>Member</td>\n",
       "    </tr>\n",
       "    <tr>\n",
       "      <th>646404</th>\n",
       "      <td>669</td>\n",
       "      <td>2017-03-31 22:50:49</td>\n",
       "      <td>2017-03-31 23:01:59</td>\n",
       "      <td>31258</td>\n",
       "      <td>Lincoln Memorial</td>\n",
       "      <td>31609</td>\n",
       "      <td>Maine Ave &amp; 7th St SW</td>\n",
       "      <td>20369</td>\n",
       "      <td>Member</td>\n",
       "    </tr>\n",
       "  </tbody>\n",
       "</table>\n",
       "<p>7876 rows × 9 columns</p>\n",
       "</div>"
      ],
      "text/plain": [
       "        Duration           Start Date             End Date  \\\n",
       "1           1676  2017-01-01 00:06:53  2017-01-01 00:34:49   \n",
       "4           1636  2017-01-01 00:07:36  2017-01-01 00:34:52   \n",
       "5           1603  2017-01-01 00:08:11  2017-01-01 00:34:55   \n",
       "24         36943  2017-01-01 00:25:42  2017-01-01 10:41:26   \n",
       "25          1903  2017-01-01 00:25:43  2017-01-01 00:57:27   \n",
       "294         1040  2017-01-01 08:22:12  2017-01-01 08:39:32   \n",
       "297         1606  2017-01-01 08:25:26  2017-01-01 08:52:12   \n",
       "301         1527  2017-01-01 08:31:57  2017-01-01 08:57:24   \n",
       "539         2717  2017-01-01 10:37:26  2017-01-01 11:22:43   \n",
       "554         2504  2017-01-01 10:40:31  2017-01-01 11:22:16   \n",
       "562         2575  2017-01-01 10:43:20  2017-01-01 11:26:15   \n",
       "564         2561  2017-01-01 10:43:28  2017-01-01 11:26:09   \n",
       "623         1834  2017-01-01 11:06:15  2017-01-01 11:36:49   \n",
       "624         1816  2017-01-01 11:06:20  2017-01-01 11:36:37   \n",
       "630          930  2017-01-01 11:08:30  2017-01-01 11:24:00   \n",
       "633          900  2017-01-01 11:09:01  2017-01-01 11:24:01   \n",
       "639         1439  2017-01-01 11:10:32  2017-01-01 11:34:32   \n",
       "716          713  2017-01-01 11:30:15  2017-01-01 11:42:08   \n",
       "718          696  2017-01-01 11:30:30  2017-01-01 11:42:06   \n",
       "758         7873  2017-01-01 11:37:34  2017-01-01 13:48:48   \n",
       "765         2708  2017-01-01 11:38:52  2017-01-01 12:24:01   \n",
       "778          269  2017-01-01 11:43:10  2017-01-01 11:47:40   \n",
       "799         2128  2017-01-01 11:48:22  2017-01-01 12:23:50   \n",
       "804         2076  2017-01-01 11:49:18  2017-01-01 12:23:55   \n",
       "812         1459  2017-01-01 11:50:49  2017-01-01 12:15:09   \n",
       "817         1435  2017-01-01 11:51:03  2017-01-01 12:14:59   \n",
       "963          355  2017-01-01 12:19:42  2017-01-01 12:25:37   \n",
       "1257       12922  2017-01-01 13:03:24  2017-01-01 16:38:46   \n",
       "1259       12931  2017-01-01 13:03:39  2017-01-01 16:39:11   \n",
       "1329         488  2017-01-01 13:17:10  2017-01-01 13:25:18   \n",
       "...          ...                  ...                  ...   \n",
       "642113       869  2017-03-30 20:51:52  2017-03-30 21:06:22   \n",
       "642182      2535  2017-03-30 21:08:11  2017-03-30 21:50:27   \n",
       "642274       567  2017-03-30 21:24:56  2017-03-30 21:34:23   \n",
       "642695      1526  2017-03-30 23:38:31  2017-03-31 00:03:57   \n",
       "642702      1041  2017-03-30 23:44:42  2017-03-31 00:02:03   \n",
       "642807      1388  2017-03-31 05:56:21  2017-03-31 06:19:30   \n",
       "643046      1073  2017-03-31 07:53:21  2017-03-31 08:11:15   \n",
       "643328      5164  2017-03-31 08:59:10  2017-03-31 10:25:14   \n",
       "643555       906  2017-03-31 12:10:10  2017-03-31 12:25:17   \n",
       "643556       899  2017-03-31 12:10:15  2017-03-31 12:25:15   \n",
       "644138      3172  2017-03-31 16:13:12  2017-03-31 17:06:04   \n",
       "644139      3163  2017-03-31 16:13:24  2017-03-31 17:06:07   \n",
       "644143      3150  2017-03-31 16:13:42  2017-03-31 17:06:13   \n",
       "644146      5486  2017-03-31 16:14:12  2017-03-31 17:45:38   \n",
       "644917      1187  2017-03-31 17:33:39  2017-03-31 17:53:27   \n",
       "644919      1160  2017-03-31 17:34:02  2017-03-31 17:53:23   \n",
       "644960      1593  2017-03-31 17:37:35  2017-03-31 18:04:09   \n",
       "644963      1589  2017-03-31 17:37:41  2017-03-31 18:04:10   \n",
       "644969      1579  2017-03-31 17:38:02  2017-03-31 18:04:21   \n",
       "644982      1506  2017-03-31 17:38:58  2017-03-31 18:04:04   \n",
       "645273      3370  2017-03-31 18:01:46  2017-03-31 18:57:57   \n",
       "645276      5034  2017-03-31 18:02:05  2017-03-31 19:25:59   \n",
       "645287      1222  2017-03-31 18:02:57  2017-03-31 18:23:19   \n",
       "645328      1510  2017-03-31 18:05:53  2017-03-31 18:31:03   \n",
       "645340      2707  2017-03-31 18:07:01  2017-03-31 18:52:09   \n",
       "645345      2745  2017-03-31 18:07:18  2017-03-31 18:53:04   \n",
       "645481      1239  2017-03-31 18:18:56  2017-03-31 18:39:36   \n",
       "645767       579  2017-03-31 18:45:57  2017-03-31 18:55:36   \n",
       "645845      1067  2017-03-31 18:56:19  2017-03-31 19:14:07   \n",
       "646404       669  2017-03-31 22:50:49  2017-03-31 23:01:59   \n",
       "\n",
       "        Start Station Number Start Station Name  End Station Number  \\\n",
       "1                      31258   Lincoln Memorial               31270   \n",
       "4                      31258   Lincoln Memorial               31270   \n",
       "5                      31258   Lincoln Memorial               31270   \n",
       "24                     31258   Lincoln Memorial               31286   \n",
       "25                     31258   Lincoln Memorial               31281   \n",
       "294                    31258   Lincoln Memorial               31283   \n",
       "297                    31258   Lincoln Memorial               31222   \n",
       "301                    31258   Lincoln Memorial               31641   \n",
       "539                    31258   Lincoln Memorial               31258   \n",
       "554                    31258   Lincoln Memorial               31258   \n",
       "562                    31258   Lincoln Memorial               31288   \n",
       "564                    31258   Lincoln Memorial               31288   \n",
       "623                    31258   Lincoln Memorial               31249   \n",
       "624                    31258   Lincoln Memorial               31249   \n",
       "630                    31258   Lincoln Memorial               31247   \n",
       "633                    31258   Lincoln Memorial               31247   \n",
       "639                    31258   Lincoln Memorial               31204   \n",
       "716                    31258   Lincoln Memorial               31249   \n",
       "718                    31258   Lincoln Memorial               31249   \n",
       "758                    31258   Lincoln Memorial               31258   \n",
       "765                    31258   Lincoln Memorial               31249   \n",
       "778                    31258   Lincoln Memorial               31258   \n",
       "799                    31258   Lincoln Memorial               31249   \n",
       "804                    31258   Lincoln Memorial               31249   \n",
       "812                    31258   Lincoln Memorial               31077   \n",
       "817                    31258   Lincoln Memorial               31077   \n",
       "963                    31258   Lincoln Memorial               31258   \n",
       "1257                   31258   Lincoln Memorial               31262   \n",
       "1259                   31258   Lincoln Memorial               31262   \n",
       "1329                   31258   Lincoln Memorial               31247   \n",
       "...                      ...                ...                 ...   \n",
       "642113                 31258   Lincoln Memorial               31205   \n",
       "642182                 31258   Lincoln Memorial               31114   \n",
       "642274                 31258   Lincoln Memorial               31247   \n",
       "642695                 31258   Lincoln Memorial               31091   \n",
       "642702                 31258   Lincoln Memorial               31200   \n",
       "642807                 31258   Lincoln Memorial               31624   \n",
       "643046                 31258   Lincoln Memorial               31621   \n",
       "643328                 31258   Lincoln Memorial               31301   \n",
       "643555                 31258   Lincoln Memorial               31247   \n",
       "643556                 31258   Lincoln Memorial               31247   \n",
       "644138                 31258   Lincoln Memorial               31231   \n",
       "644139                 31258   Lincoln Memorial               31231   \n",
       "644143                 31258   Lincoln Memorial               31231   \n",
       "644146                 31258   Lincoln Memorial               31231   \n",
       "644917                 31258   Lincoln Memorial               31265   \n",
       "644919                 31258   Lincoln Memorial               31265   \n",
       "644960                 31258   Lincoln Memorial               31249   \n",
       "644963                 31258   Lincoln Memorial               31249   \n",
       "644969                 31258   Lincoln Memorial               31249   \n",
       "644982                 31258   Lincoln Memorial               31249   \n",
       "645273                 31258   Lincoln Memorial               31101   \n",
       "645276                 31258   Lincoln Memorial               31114   \n",
       "645287                 31258   Lincoln Memorial               31225   \n",
       "645328                 31258   Lincoln Memorial               31080   \n",
       "645340                 31258   Lincoln Memorial               31258   \n",
       "645345                 31258   Lincoln Memorial               31258   \n",
       "645481                 31258   Lincoln Memorial               31284   \n",
       "645767                 31258   Lincoln Memorial               31248   \n",
       "645845                 31258   Lincoln Memorial               31014   \n",
       "646404                 31258   Lincoln Memorial               31609   \n",
       "\n",
       "                                         End Station Name  Bike Number  \\\n",
       "1                                           8th & D St NW          894   \n",
       "4                                           8th & D St NW        22786   \n",
       "5                                           8th & D St NW        20890   \n",
       "24                                         11th & O St NW        20716   \n",
       "25                                          8th & O St NW          367   \n",
       "294                                        14th & L St NW          765   \n",
       "297                             New York Ave & 15th St NW        21808   \n",
       "301                         2nd St & Massachusetts Ave NE        20507   \n",
       "539                                      Lincoln Memorial         1339   \n",
       "554                                      Lincoln Memorial         1271   \n",
       "562                                4th St & Madison Dr NW        21922   \n",
       "564                                4th St & Madison Dr NW        22873   \n",
       "623                                    Jefferson Memorial          311   \n",
       "624                                    Jefferson Memorial        20962   \n",
       "630                             Jefferson Dr & 14th St SW        20583   \n",
       "633                             Jefferson Dr & 14th St SW        22230   \n",
       "639                                        20th & E St NW        21209   \n",
       "716                                    Jefferson Memorial         1339   \n",
       "718                                    Jefferson Memorial          112   \n",
       "758                                      Lincoln Memorial        20986   \n",
       "765                                    Jefferson Memorial        21406   \n",
       "778                                      Lincoln Memorial         1271   \n",
       "799                                    Jefferson Memorial        21726   \n",
       "804                                    Jefferson Memorial         1345   \n",
       "812                 Iwo Jima Memorial/N Meade & 14th St N         1271   \n",
       "817                 Iwo Jima Memorial/N Meade & 14th St N        22430   \n",
       "963                                      Lincoln Memorial          807   \n",
       "1257                                       11th & F St NW          898   \n",
       "1259                                       11th & F St NW          412   \n",
       "1329                            Jefferson Dr & 14th St SW        21836   \n",
       "...                                                   ...          ...   \n",
       "642113                                     21st & I St NW        22664   \n",
       "642182                           18th St & Wyoming Ave NW        20166   \n",
       "642274                          Jefferson Dr & 14th St SW         1439   \n",
       "642695                                S Joyce & 16th St S        22224   \n",
       "642702               Massachusetts Ave & Dupont Circle NW          724   \n",
       "642807                         North Capitol St & F St NW         1096   \n",
       "643046                   4th & D St NW / Judiciary Square        22251   \n",
       "643328                  Ward Circle / American University            0   \n",
       "643555                          Jefferson Dr & 14th St SW        22128   \n",
       "643556                          Jefferson Dr & 14th St SW          560   \n",
       "644138            14th & D St NW / Ronald Reagan Building        20266   \n",
       "644139            14th & D St NW / Ronald Reagan Building        22120   \n",
       "644143            14th & D St NW / Ronald Reagan Building        20119   \n",
       "644146            14th & D St NW / Ronald Reagan Building          888   \n",
       "644917                      5th St & Massachusetts Ave NW        21052   \n",
       "644919                      5th St & Massachusetts Ave NW         1444   \n",
       "644960                                 Jefferson Memorial          672   \n",
       "644963                                 Jefferson Memorial        21021   \n",
       "644969                                 Jefferson Memorial        22616   \n",
       "644982                                 Jefferson Memorial         1203   \n",
       "645273                                     14th & V St NW        21944   \n",
       "645276                           18th St & Wyoming Ave NW        20290   \n",
       "645287                     C & O Canal & Wisconsin Ave NW         1165   \n",
       "645328                               Lee Hwy & N Scott St        20369   \n",
       "645340                                   Lincoln Memorial           81   \n",
       "645345                                   Lincoln Memorial        23165   \n",
       "645481                                     18th & C St NW        22517   \n",
       "645767  Smithsonian-National Mall / Jefferson Dr & 12t...          138   \n",
       "645845                               Lynn & 19th St North        21919   \n",
       "646404                              Maine Ave & 7th St SW        20369   \n",
       "\n",
       "       Member Type  \n",
       "1           Casual  \n",
       "4           Casual  \n",
       "5           Casual  \n",
       "24          Casual  \n",
       "25          Casual  \n",
       "294         Member  \n",
       "297         Member  \n",
       "301         Member  \n",
       "539         Casual  \n",
       "554         Casual  \n",
       "562         Casual  \n",
       "564         Casual  \n",
       "623         Casual  \n",
       "624         Casual  \n",
       "630         Casual  \n",
       "633         Casual  \n",
       "639         Casual  \n",
       "716         Casual  \n",
       "718         Casual  \n",
       "758         Casual  \n",
       "765         Casual  \n",
       "778         Casual  \n",
       "799         Casual  \n",
       "804         Casual  \n",
       "812         Casual  \n",
       "817         Casual  \n",
       "963         Casual  \n",
       "1257        Casual  \n",
       "1259        Casual  \n",
       "1329        Member  \n",
       "...            ...  \n",
       "642113      Casual  \n",
       "642182      Casual  \n",
       "642274      Member  \n",
       "642695      Member  \n",
       "642702      Casual  \n",
       "642807      Member  \n",
       "643046      Member  \n",
       "643328      Member  \n",
       "643555      Casual  \n",
       "643556      Casual  \n",
       "644138      Casual  \n",
       "644139      Casual  \n",
       "644143      Casual  \n",
       "644146      Casual  \n",
       "644917      Member  \n",
       "644919      Member  \n",
       "644960      Casual  \n",
       "644963      Casual  \n",
       "644969      Casual  \n",
       "644982      Casual  \n",
       "645273      Casual  \n",
       "645276      Casual  \n",
       "645287      Casual  \n",
       "645328      Member  \n",
       "645340      Casual  \n",
       "645345      Casual  \n",
       "645481      Casual  \n",
       "645767      Member  \n",
       "645845      Member  \n",
       "646404      Member  \n",
       "\n",
       "[7876 rows x 9 columns]"
      ]
     },
     "execution_count": 25,
     "metadata": {},
     "output_type": "execute_result"
    }
   ],
   "source": [
    "# Lets have a look at all the Lincoln Memorial Start Station journeys.\n",
    "dataframe_washington.loc[dataframe_washington['Start Station Name']=='Lincoln Memorial', :]"
   ]
  },
  {
   "cell_type": "code",
   "execution_count": 26,
   "metadata": {},
   "outputs": [
    {
     "data": {
      "text/html": [
       "<div>\n",
       "<style scoped>\n",
       "    .dataframe tbody tr th:only-of-type {\n",
       "        vertical-align: middle;\n",
       "    }\n",
       "\n",
       "    .dataframe tbody tr th {\n",
       "        vertical-align: top;\n",
       "    }\n",
       "\n",
       "    .dataframe thead th {\n",
       "        text-align: right;\n",
       "    }\n",
       "</style>\n",
       "<table border=\"1\" class=\"dataframe\">\n",
       "  <thead>\n",
       "    <tr style=\"text-align: right;\">\n",
       "      <th></th>\n",
       "      <th>Duration</th>\n",
       "      <th>Start Date</th>\n",
       "      <th>End Date</th>\n",
       "      <th>Start Station Number</th>\n",
       "      <th>Start Station Name</th>\n",
       "      <th>End Station Number</th>\n",
       "      <th>End Station Name</th>\n",
       "      <th>Bike Number</th>\n",
       "      <th>Member Type</th>\n",
       "    </tr>\n",
       "  </thead>\n",
       "  <tbody>\n",
       "    <tr>\n",
       "      <th>68066</th>\n",
       "      <td>1388</td>\n",
       "      <td>2017-01-14 15:35:35</td>\n",
       "      <td>2017-01-14 15:58:44</td>\n",
       "      <td>31258</td>\n",
       "      <td>Lincoln Memorial</td>\n",
       "      <td>31609</td>\n",
       "      <td>Maine Ave &amp; 7th St SW</td>\n",
       "      <td>21733</td>\n",
       "      <td>Member</td>\n",
       "    </tr>\n",
       "    <tr>\n",
       "      <th>70739</th>\n",
       "      <td>2765</td>\n",
       "      <td>2017-01-15 13:30:17</td>\n",
       "      <td>2017-01-15 14:16:23</td>\n",
       "      <td>31258</td>\n",
       "      <td>Lincoln Memorial</td>\n",
       "      <td>31609</td>\n",
       "      <td>Maine Ave &amp; 7th St SW</td>\n",
       "      <td>20844</td>\n",
       "      <td>Casual</td>\n",
       "    </tr>\n",
       "    <tr>\n",
       "      <th>106130</th>\n",
       "      <td>907</td>\n",
       "      <td>2017-01-21 09:58:11</td>\n",
       "      <td>2017-01-21 10:13:18</td>\n",
       "      <td>31258</td>\n",
       "      <td>Lincoln Memorial</td>\n",
       "      <td>31609</td>\n",
       "      <td>Maine Ave &amp; 7th St SW</td>\n",
       "      <td>21898</td>\n",
       "      <td>Member</td>\n",
       "    </tr>\n",
       "    <tr>\n",
       "      <th>106144</th>\n",
       "      <td>809</td>\n",
       "      <td>2017-01-21 09:59:58</td>\n",
       "      <td>2017-01-21 10:13:27</td>\n",
       "      <td>31258</td>\n",
       "      <td>Lincoln Memorial</td>\n",
       "      <td>31609</td>\n",
       "      <td>Maine Ave &amp; 7th St SW</td>\n",
       "      <td>21755</td>\n",
       "      <td>Member</td>\n",
       "    </tr>\n",
       "    <tr>\n",
       "      <th>153169</th>\n",
       "      <td>2303</td>\n",
       "      <td>2017-01-28 14:01:30</td>\n",
       "      <td>2017-01-28 14:39:53</td>\n",
       "      <td>31258</td>\n",
       "      <td>Lincoln Memorial</td>\n",
       "      <td>31609</td>\n",
       "      <td>Maine Ave &amp; 7th St SW</td>\n",
       "      <td>21004</td>\n",
       "      <td>Member</td>\n",
       "    </tr>\n",
       "    <tr>\n",
       "      <th>253858</th>\n",
       "      <td>987</td>\n",
       "      <td>2017-02-11 20:13:03</td>\n",
       "      <td>2017-02-11 20:29:31</td>\n",
       "      <td>31258</td>\n",
       "      <td>Lincoln Memorial</td>\n",
       "      <td>31609</td>\n",
       "      <td>Maine Ave &amp; 7th St SW</td>\n",
       "      <td>23163</td>\n",
       "      <td>Member</td>\n",
       "    </tr>\n",
       "    <tr>\n",
       "      <th>272053</th>\n",
       "      <td>763</td>\n",
       "      <td>2017-02-14 19:09:49</td>\n",
       "      <td>2017-02-14 19:22:32</td>\n",
       "      <td>31258</td>\n",
       "      <td>Lincoln Memorial</td>\n",
       "      <td>31609</td>\n",
       "      <td>Maine Ave &amp; 7th St SW</td>\n",
       "      <td>22536</td>\n",
       "      <td>Member</td>\n",
       "    </tr>\n",
       "    <tr>\n",
       "      <th>315527</th>\n",
       "      <td>2115</td>\n",
       "      <td>2017-02-19 17:58:32</td>\n",
       "      <td>2017-02-19 18:33:47</td>\n",
       "      <td>31258</td>\n",
       "      <td>Lincoln Memorial</td>\n",
       "      <td>31609</td>\n",
       "      <td>Maine Ave &amp; 7th St SW</td>\n",
       "      <td>21714</td>\n",
       "      <td>Casual</td>\n",
       "    </tr>\n",
       "    <tr>\n",
       "      <th>315547</th>\n",
       "      <td>2059</td>\n",
       "      <td>2017-02-19 17:59:09</td>\n",
       "      <td>2017-02-19 18:33:29</td>\n",
       "      <td>31258</td>\n",
       "      <td>Lincoln Memorial</td>\n",
       "      <td>31609</td>\n",
       "      <td>Maine Ave &amp; 7th St SW</td>\n",
       "      <td>1353</td>\n",
       "      <td>Casual</td>\n",
       "    </tr>\n",
       "    <tr>\n",
       "      <th>315549</th>\n",
       "      <td>2059</td>\n",
       "      <td>2017-02-19 17:59:10</td>\n",
       "      <td>2017-02-19 18:33:29</td>\n",
       "      <td>31258</td>\n",
       "      <td>Lincoln Memorial</td>\n",
       "      <td>31609</td>\n",
       "      <td>Maine Ave &amp; 7th St SW</td>\n",
       "      <td>20040</td>\n",
       "      <td>Casual</td>\n",
       "    </tr>\n",
       "    <tr>\n",
       "      <th>315551</th>\n",
       "      <td>2022</td>\n",
       "      <td>2017-02-19 17:59:14</td>\n",
       "      <td>2017-02-19 18:32:57</td>\n",
       "      <td>31258</td>\n",
       "      <td>Lincoln Memorial</td>\n",
       "      <td>31609</td>\n",
       "      <td>Maine Ave &amp; 7th St SW</td>\n",
       "      <td>22895</td>\n",
       "      <td>Casual</td>\n",
       "    </tr>\n",
       "    <tr>\n",
       "      <th>384519</th>\n",
       "      <td>694</td>\n",
       "      <td>2017-02-26 19:25:33</td>\n",
       "      <td>2017-02-26 19:37:07</td>\n",
       "      <td>31258</td>\n",
       "      <td>Lincoln Memorial</td>\n",
       "      <td>31609</td>\n",
       "      <td>Maine Ave &amp; 7th St SW</td>\n",
       "      <td>1014</td>\n",
       "      <td>Member</td>\n",
       "    </tr>\n",
       "    <tr>\n",
       "      <th>431879</th>\n",
       "      <td>951</td>\n",
       "      <td>2017-03-05 12:49:27</td>\n",
       "      <td>2017-03-05 13:05:18</td>\n",
       "      <td>31258</td>\n",
       "      <td>Lincoln Memorial</td>\n",
       "      <td>31609</td>\n",
       "      <td>Maine Ave &amp; 7th St SW</td>\n",
       "      <td>185</td>\n",
       "      <td>Member</td>\n",
       "    </tr>\n",
       "    <tr>\n",
       "      <th>579508</th>\n",
       "      <td>1737</td>\n",
       "      <td>2017-03-25 12:35:45</td>\n",
       "      <td>2017-03-25 13:04:43</td>\n",
       "      <td>31258</td>\n",
       "      <td>Lincoln Memorial</td>\n",
       "      <td>31609</td>\n",
       "      <td>Maine Ave &amp; 7th St SW</td>\n",
       "      <td>21407</td>\n",
       "      <td>Casual</td>\n",
       "    </tr>\n",
       "    <tr>\n",
       "      <th>579527</th>\n",
       "      <td>1703</td>\n",
       "      <td>2017-03-25 12:36:25</td>\n",
       "      <td>2017-03-25 13:04:48</td>\n",
       "      <td>31258</td>\n",
       "      <td>Lincoln Memorial</td>\n",
       "      <td>31609</td>\n",
       "      <td>Maine Ave &amp; 7th St SW</td>\n",
       "      <td>23119</td>\n",
       "      <td>Casual</td>\n",
       "    </tr>\n",
       "    <tr>\n",
       "      <th>583221</th>\n",
       "      <td>2789</td>\n",
       "      <td>2017-03-25 14:55:26</td>\n",
       "      <td>2017-03-25 15:41:55</td>\n",
       "      <td>31258</td>\n",
       "      <td>Lincoln Memorial</td>\n",
       "      <td>31609</td>\n",
       "      <td>Maine Ave &amp; 7th St SW</td>\n",
       "      <td>22256</td>\n",
       "      <td>Member</td>\n",
       "    </tr>\n",
       "    <tr>\n",
       "      <th>583222</th>\n",
       "      <td>2786</td>\n",
       "      <td>2017-03-25 14:55:32</td>\n",
       "      <td>2017-03-25 15:41:58</td>\n",
       "      <td>31258</td>\n",
       "      <td>Lincoln Memorial</td>\n",
       "      <td>31609</td>\n",
       "      <td>Maine Ave &amp; 7th St SW</td>\n",
       "      <td>22734</td>\n",
       "      <td>Member</td>\n",
       "    </tr>\n",
       "    <tr>\n",
       "      <th>585500</th>\n",
       "      <td>3397</td>\n",
       "      <td>2017-03-25 16:23:44</td>\n",
       "      <td>2017-03-25 17:20:22</td>\n",
       "      <td>31258</td>\n",
       "      <td>Lincoln Memorial</td>\n",
       "      <td>31609</td>\n",
       "      <td>Maine Ave &amp; 7th St SW</td>\n",
       "      <td>22181</td>\n",
       "      <td>Casual</td>\n",
       "    </tr>\n",
       "    <tr>\n",
       "      <th>585505</th>\n",
       "      <td>3319</td>\n",
       "      <td>2017-03-25 16:23:56</td>\n",
       "      <td>2017-03-25 17:19:15</td>\n",
       "      <td>31258</td>\n",
       "      <td>Lincoln Memorial</td>\n",
       "      <td>31609</td>\n",
       "      <td>Maine Ave &amp; 7th St SW</td>\n",
       "      <td>20548</td>\n",
       "      <td>Casual</td>\n",
       "    </tr>\n",
       "    <tr>\n",
       "      <th>646404</th>\n",
       "      <td>669</td>\n",
       "      <td>2017-03-31 22:50:49</td>\n",
       "      <td>2017-03-31 23:01:59</td>\n",
       "      <td>31258</td>\n",
       "      <td>Lincoln Memorial</td>\n",
       "      <td>31609</td>\n",
       "      <td>Maine Ave &amp; 7th St SW</td>\n",
       "      <td>20369</td>\n",
       "      <td>Member</td>\n",
       "    </tr>\n",
       "  </tbody>\n",
       "</table>\n",
       "</div>"
      ],
      "text/plain": [
       "        Duration           Start Date             End Date  \\\n",
       "68066       1388  2017-01-14 15:35:35  2017-01-14 15:58:44   \n",
       "70739       2765  2017-01-15 13:30:17  2017-01-15 14:16:23   \n",
       "106130       907  2017-01-21 09:58:11  2017-01-21 10:13:18   \n",
       "106144       809  2017-01-21 09:59:58  2017-01-21 10:13:27   \n",
       "153169      2303  2017-01-28 14:01:30  2017-01-28 14:39:53   \n",
       "253858       987  2017-02-11 20:13:03  2017-02-11 20:29:31   \n",
       "272053       763  2017-02-14 19:09:49  2017-02-14 19:22:32   \n",
       "315527      2115  2017-02-19 17:58:32  2017-02-19 18:33:47   \n",
       "315547      2059  2017-02-19 17:59:09  2017-02-19 18:33:29   \n",
       "315549      2059  2017-02-19 17:59:10  2017-02-19 18:33:29   \n",
       "315551      2022  2017-02-19 17:59:14  2017-02-19 18:32:57   \n",
       "384519       694  2017-02-26 19:25:33  2017-02-26 19:37:07   \n",
       "431879       951  2017-03-05 12:49:27  2017-03-05 13:05:18   \n",
       "579508      1737  2017-03-25 12:35:45  2017-03-25 13:04:43   \n",
       "579527      1703  2017-03-25 12:36:25  2017-03-25 13:04:48   \n",
       "583221      2789  2017-03-25 14:55:26  2017-03-25 15:41:55   \n",
       "583222      2786  2017-03-25 14:55:32  2017-03-25 15:41:58   \n",
       "585500      3397  2017-03-25 16:23:44  2017-03-25 17:20:22   \n",
       "585505      3319  2017-03-25 16:23:56  2017-03-25 17:19:15   \n",
       "646404       669  2017-03-31 22:50:49  2017-03-31 23:01:59   \n",
       "\n",
       "        Start Station Number Start Station Name  End Station Number  \\\n",
       "68066                  31258   Lincoln Memorial               31609   \n",
       "70739                  31258   Lincoln Memorial               31609   \n",
       "106130                 31258   Lincoln Memorial               31609   \n",
       "106144                 31258   Lincoln Memorial               31609   \n",
       "153169                 31258   Lincoln Memorial               31609   \n",
       "253858                 31258   Lincoln Memorial               31609   \n",
       "272053                 31258   Lincoln Memorial               31609   \n",
       "315527                 31258   Lincoln Memorial               31609   \n",
       "315547                 31258   Lincoln Memorial               31609   \n",
       "315549                 31258   Lincoln Memorial               31609   \n",
       "315551                 31258   Lincoln Memorial               31609   \n",
       "384519                 31258   Lincoln Memorial               31609   \n",
       "431879                 31258   Lincoln Memorial               31609   \n",
       "579508                 31258   Lincoln Memorial               31609   \n",
       "579527                 31258   Lincoln Memorial               31609   \n",
       "583221                 31258   Lincoln Memorial               31609   \n",
       "583222                 31258   Lincoln Memorial               31609   \n",
       "585500                 31258   Lincoln Memorial               31609   \n",
       "585505                 31258   Lincoln Memorial               31609   \n",
       "646404                 31258   Lincoln Memorial               31609   \n",
       "\n",
       "             End Station Name  Bike Number Member Type  \n",
       "68066   Maine Ave & 7th St SW        21733      Member  \n",
       "70739   Maine Ave & 7th St SW        20844      Casual  \n",
       "106130  Maine Ave & 7th St SW        21898      Member  \n",
       "106144  Maine Ave & 7th St SW        21755      Member  \n",
       "153169  Maine Ave & 7th St SW        21004      Member  \n",
       "253858  Maine Ave & 7th St SW        23163      Member  \n",
       "272053  Maine Ave & 7th St SW        22536      Member  \n",
       "315527  Maine Ave & 7th St SW        21714      Casual  \n",
       "315547  Maine Ave & 7th St SW         1353      Casual  \n",
       "315549  Maine Ave & 7th St SW        20040      Casual  \n",
       "315551  Maine Ave & 7th St SW        22895      Casual  \n",
       "384519  Maine Ave & 7th St SW         1014      Member  \n",
       "431879  Maine Ave & 7th St SW          185      Member  \n",
       "579508  Maine Ave & 7th St SW        21407      Casual  \n",
       "579527  Maine Ave & 7th St SW        23119      Casual  \n",
       "583221  Maine Ave & 7th St SW        22256      Member  \n",
       "583222  Maine Ave & 7th St SW        22734      Member  \n",
       "585500  Maine Ave & 7th St SW        22181      Casual  \n",
       "585505  Maine Ave & 7th St SW        20548      Casual  \n",
       "646404  Maine Ave & 7th St SW        20369      Member  "
      ]
     },
     "execution_count": 26,
     "metadata": {},
     "output_type": "execute_result"
    }
   ],
   "source": [
    "## Has anyone started at Lincoln Memorial and Ended up at Maine Ave & 7th St SW?\n",
    "dataframe_washington.loc[(dataframe_washington['Start Station Name'] =='Lincoln Memorial') & \n",
    "                         (dataframe_washington['End Station Name'] == 'Maine Ave & 7th St SW'), :]"
   ]
  },
  {
   "cell_type": "code",
   "execution_count": 27,
   "metadata": {},
   "outputs": [],
   "source": [
    "## 185 has been used quite a lot actually, let us now write a method which counts the number of times something appears.\n",
    "def counter(column, object_name):\n",
    "    counter_index = 0\n",
    "    for i in range(dataframe_washington[column].size):\n",
    "        if(dataframe_washington[column].iloc[i] == object_name):\n",
    "            counter_index += 1\n",
    "    return counter_index"
   ]
  },
  {
   "cell_type": "code",
   "execution_count": 28,
   "metadata": {},
   "outputs": [
    {
     "name": "stdout",
     "output_type": "stream",
     "text": [
      "214\n"
     ]
    }
   ],
   "source": [
    "# As we can see, in 2017 the bike 185 was used 214 times.\n",
    "print(counter('Bike Number', 185))"
   ]
  },
  {
   "cell_type": "code",
   "execution_count": 29,
   "metadata": {},
   "outputs": [
    {
     "name": "stdout",
     "output_type": "stream",
     "text": [
      "528434\n"
     ]
    }
   ],
   "source": [
    "# Let's have a look at how many times members commuted and compare that to the number of times \n",
    "# casual people commuted with bikes.\n",
    "print(counter('Member Type', 'Member'))"
   ]
  },
  {
   "cell_type": "code",
   "execution_count": 30,
   "metadata": {},
   "outputs": [
    {
     "name": "stdout",
     "output_type": "stream",
     "text": [
      "118076\n"
     ]
    }
   ],
   "source": [
    "# And now how many times casual users used the bikes in Washington:\n",
    "print(counter('Member Type', 'Casual'))"
   ]
  },
  {
   "cell_type": "markdown",
   "metadata": {},
   "source": [
    "## More members have used the bikes during 2017 than casual users. Almost 5 times the number of casual users. "
   ]
  },
  {
   "cell_type": "markdown",
   "metadata": {},
   "source": [
    "1. We will use the [Capital Bikeshare API](https://secure.capitalbikeshare.com/map/) to visualise a docking station and see if we can pinpoint the furthest distance travelled from that station.\n",
    "2. We will try to deduce how many people ended their journey at a docking station which is the closest to a museum. "
   ]
  },
  {
   "cell_type": "markdown",
   "metadata": {},
   "source": [
    "## The first docking station we will concentrate on is `Constitution Ave & 2nd St NW/DOL`\n",
    "<img src=\"Images\\Const_ave.png\" width=\"600\" height=\"500\">"
   ]
  },
  {
   "cell_type": "code",
   "execution_count": 31,
   "metadata": {},
   "outputs": [],
   "source": [
    "# Now lets define a method which will tell us if a value exists in a column.\n",
    "def data_identification(column_name, value):\n",
    "    for i in range (dataframe_washington[column_name].size):\n",
    "        if (dataframe_washington[column_name].iloc[i] == value):\n",
    "            return (\"Value Exists!\")\n",
    "            break"
   ]
  },
  {
   "cell_type": "code",
   "execution_count": 32,
   "metadata": {},
   "outputs": [
    {
     "name": "stdout",
     "output_type": "stream",
     "text": [
      "Value Exists!\n"
     ]
    }
   ],
   "source": [
    "# We check to see if the station number 31271 does exist in our dataset, that way we know the API and dataset are callibrated\n",
    "print(data_identification('Start Station Number', 31271))"
   ]
  },
  {
   "cell_type": "code",
   "execution_count": 33,
   "metadata": {},
   "outputs": [
    {
     "data": {
      "text/plain": [
       "81885"
      ]
     },
     "execution_count": 33,
     "metadata": {},
     "output_type": "execute_result"
    }
   ],
   "source": [
    "#Now we want to see the furthest distance travelled from the station 31271. We first assign the rows with the station\n",
    "#start number = 31271 to the variable list_of_stations.\n",
    "list_of_stations = dataframe_washington.loc[dataframe_washington['Start Station Number'] == 31271, :]\n",
    "#We now run the max() function on the `Duration` column to return the maximum duration\n",
    "list_of_stations['Duration'].max()"
   ]
  },
  {
   "cell_type": "markdown",
   "metadata": {},
   "source": [
    "## The maximum duration of travel from the starting station `Constitution Ave & 2nd St NW/DOL` was `01` hour, `15` minutes and `14` seconds. The `end station` was the same as start station and the user was a `member`. "
   ]
  },
  {
   "cell_type": "code",
   "execution_count": 34,
   "metadata": {},
   "outputs": [
    {
     "data": {
      "text/html": [
       "<div>\n",
       "<style scoped>\n",
       "    .dataframe tbody tr th:only-of-type {\n",
       "        vertical-align: middle;\n",
       "    }\n",
       "\n",
       "    .dataframe tbody tr th {\n",
       "        vertical-align: top;\n",
       "    }\n",
       "\n",
       "    .dataframe thead th {\n",
       "        text-align: right;\n",
       "    }\n",
       "</style>\n",
       "<table border=\"1\" class=\"dataframe\">\n",
       "  <thead>\n",
       "    <tr style=\"text-align: right;\">\n",
       "      <th></th>\n",
       "      <th>Duration</th>\n",
       "      <th>Start Date</th>\n",
       "      <th>End Date</th>\n",
       "      <th>Start Station Number</th>\n",
       "      <th>Start Station Name</th>\n",
       "      <th>End Station Number</th>\n",
       "      <th>End Station Name</th>\n",
       "      <th>Bike Number</th>\n",
       "      <th>Member Type</th>\n",
       "    </tr>\n",
       "  </thead>\n",
       "  <tbody>\n",
       "    <tr>\n",
       "      <th>228091</th>\n",
       "      <td>81885</td>\n",
       "      <td>2017-02-08 08:46:57</td>\n",
       "      <td>2017-02-09 07:31:43</td>\n",
       "      <td>31271</td>\n",
       "      <td>Constitution Ave &amp; 2nd St NW/DOL</td>\n",
       "      <td>31271</td>\n",
       "      <td>Constitution Ave &amp; 2nd St NW/DOL</td>\n",
       "      <td>20197</td>\n",
       "      <td>Member</td>\n",
       "    </tr>\n",
       "  </tbody>\n",
       "</table>\n",
       "</div>"
      ],
      "text/plain": [
       "        Duration           Start Date             End Date  \\\n",
       "228091     81885  2017-02-08 08:46:57  2017-02-09 07:31:43   \n",
       "\n",
       "        Start Station Number                Start Station Name  \\\n",
       "228091                 31271  Constitution Ave & 2nd St NW/DOL   \n",
       "\n",
       "        End Station Number                  End Station Name  Bike Number  \\\n",
       "228091               31271  Constitution Ave & 2nd St NW/DOL        20197   \n",
       "\n",
       "       Member Type  \n",
       "228091      Member  "
      ]
     },
     "execution_count": 34,
     "metadata": {},
     "output_type": "execute_result"
    }
   ],
   "source": [
    "list_of_stations.loc[list_of_stations['Duration'] == 81885]"
   ]
  },
  {
   "cell_type": "markdown",
   "metadata": {},
   "source": [
    "## Now for the second question, the memorial/museum we will focus on is:\n",
    "<img src=\"Images\\Jefferson Mem.png\" width=\"600\" height=\"500\">"
   ]
  },
  {
   "cell_type": "code",
   "execution_count": 35,
   "metadata": {},
   "outputs": [
    {
     "name": "stdout",
     "output_type": "stream",
     "text": [
      "5970\n"
     ]
    }
   ],
   "source": [
    "# We made use of our `counter` method and just counted how many times the End Station was the Jefferson Memorial.\n",
    "print(counter('End Station Number', 31249))"
   ]
  },
  {
   "cell_type": "markdown",
   "metadata": {},
   "source": [
    "## The number of bike rides which ended at the Jefferson Memorial were `5970` "
   ]
  },
  {
   "cell_type": "markdown",
   "metadata": {},
   "source": [
    "# Now we will further explore our dataset visually."
   ]
  },
  {
   "cell_type": "code",
   "execution_count": 38,
   "metadata": {},
   "outputs": [],
   "source": [
    "sea.set(style=\"darkgrid\")"
   ]
  },
  {
   "cell_type": "code",
   "execution_count": 39,
   "metadata": {},
   "outputs": [
    {
     "data": {
      "image/png": "[encoded data removed]",
      "text/plain": [
       "<Figure size 720x720 with 20 Axes>"
      ]
     },
     "metadata": {},
     "output_type": "display_data"
    }
   ],
   "source": [
    "columns = ['Bike Number', 'End Station Number', 'Start Station Number', 'Duration']\n",
    "sea.pairplot(dataframe_washington[columns])\n",
    "plt.tight_layout()\n",
    "plt.show()"
   ]
  },
  {
   "cell_type": "code",
   "execution_count": 40,
   "metadata": {},
   "outputs": [],
   "source": [
    "columns = ['Bike Number', 'Duration']\n",
    "bike_duration = dataframe_washington[columns]"
   ]
  },
  {
   "cell_type": "code",
   "execution_count": 124,
   "metadata": {},
   "outputs": [
    {
     "data": {
      "image/png": "[encoded data removed]",
      "text/plain": [
       "<Figure size 1368x1296 with 1 Axes>"
      ]
     },
     "metadata": {
      "needs_background": "light"
     },
     "output_type": "display_data"
    },
    {
     "data": {
      "image/png": "[encoded data removed]",
      "text/plain": [
       "<Figure size 360x360 with 1 Axes>"
      ]
     },
     "metadata": {
      "needs_background": "light"
     },
     "output_type": "display_data"
    }
   ],
   "source": [
    "# Ignore the small empty scatter at the bottom, I don't know why it keeps appearing!\n",
    "dimensions = (19, 18)\n",
    "fig, ax = plt.subplots(figsize=dimensions)\n",
    "sea.relplot(x='Bike Number', y='Duration',\n",
    "            data=bike_duration, ax=ax);"
   ]
  },
  {
   "cell_type": "code",
   "execution_count": 42,
   "metadata": {},
   "outputs": [
    {
     "data": {
      "image/png": "[encoded data removed]",
      "text/plain": [
       "<Figure size 1440x1080 with 4 Axes>"
      ]
     },
     "metadata": {
      "needs_background": "light"
     },
     "output_type": "display_data"
    }
   ],
   "source": [
    "%matplotlib inline\n",
    "import matplotlib.pyplot as plt\n",
    "dataframe_washington.hist(bins=50, figsize=(20, 15))\n",
    "plt.show()"
   ]
  },
  {
   "cell_type": "code",
   "execution_count": 43,
   "metadata": {},
   "outputs": [],
   "source": [
    "# Creating a test set, we will develop a function to do this for us:\n",
    "def train_test(data, test_ratio):\n",
    "    np.random.seed(42)\n",
    "    shuffled = np.random.permutation(len(data))\n",
    "    testset_size = int(len(data) * test_ratio)\n",
    "    test_indices = shuffled[:testset_size]\n",
    "    train_indices = shuffled[testset_size]\n",
    "    return dataframe_washington.iloc[train_indices], dataframe_washington.iloc[test_indices]"
   ]
  },
  {
   "cell_type": "code",
   "execution_count": 44,
   "metadata": {},
   "outputs": [],
   "source": [
    "train_set, test_set = train_test(dataframe_washington, 0.2)"
   ]
  },
  {
   "cell_type": "code",
   "execution_count": 45,
   "metadata": {},
   "outputs": [
    {
     "data": {
      "text/plain": [
       "9"
      ]
     },
     "execution_count": 45,
     "metadata": {},
     "output_type": "execute_result"
    }
   ],
   "source": [
    "len(train_set)"
   ]
  },
  {
   "cell_type": "code",
   "execution_count": 46,
   "metadata": {},
   "outputs": [
    {
     "data": {
      "text/plain": [
       "129302"
      ]
     },
     "execution_count": 46,
     "metadata": {},
     "output_type": "execute_result"
    }
   ],
   "source": [
    "len(test_set)"
   ]
  },
  {
   "cell_type": "markdown",
   "metadata": {},
   "source": [
    "## We can run some basic regression techniques on the data like RMSE (Root Mean Squared Error)"
   ]
  },
  {
   "cell_type": "code",
   "execution_count": 47,
   "metadata": {},
   "outputs": [],
   "source": [
    "from zlib import crc32"
   ]
  },
  {
   "cell_type": "code",
   "execution_count": 48,
   "metadata": {},
   "outputs": [],
   "source": [
    "# We create the crc32 hash of each instances identifier.\n",
    "def test_set_check(identifier, test_ratio):\n",
    "    return crc32(np.int64(identifier)) & 0xffffffff < test_ratio * 2**32"
   ]
  },
  {
   "cell_type": "code",
   "execution_count": 49,
   "metadata": {},
   "outputs": [],
   "source": [
    "# This function splits the data into test set and training set according to an id\n",
    "def train_test_by_id(data, test_ratio, id_column):\n",
    "    ids = data[id_column]\n",
    "    in_test_set = ids.apply(lambda id_: test_set_check(id_, test_ratio))\n",
    "    return data.loc[~in_test_set], data.loc[in_test_set]"
   ]
  },
  {
   "cell_type": "code",
   "execution_count": 50,
   "metadata": {},
   "outputs": [],
   "source": [
    "# We create a new index column from 0 to n = size of dataset.\n",
    "by_id = dataframe_washington.reset_index()"
   ]
  },
  {
   "cell_type": "code",
   "execution_count": 51,
   "metadata": {},
   "outputs": [],
   "source": [
    "train_set_v2, test_set_v2 = train_test_by_id(by_id, 0.2, \"index\")"
   ]
  },
  {
   "cell_type": "markdown",
   "metadata": {},
   "source": [
    "## The previous train_test splitter method would break if a new dataset was loaded into the notebook, to bypass that problem. A new solution would be the train_test_by_id in which we use each instances identifier to decide wheter or not it should go in the test set. "
   ]
  },
  {
   "cell_type": "code",
   "execution_count": 52,
   "metadata": {},
   "outputs": [
    {
     "data": {
      "text/plain": [
       "517205"
      ]
     },
     "execution_count": 52,
     "metadata": {},
     "output_type": "execute_result"
    }
   ],
   "source": [
    "len(train_set_v2)"
   ]
  },
  {
   "cell_type": "code",
   "execution_count": 53,
   "metadata": {},
   "outputs": [
    {
     "data": {
      "text/plain": [
       "129305"
      ]
     },
     "execution_count": 53,
     "metadata": {},
     "output_type": "execute_result"
    }
   ],
   "source": [
    "len(test_set_v2)"
   ]
  },
  {
   "cell_type": "code",
   "execution_count": 54,
   "metadata": {},
   "outputs": [
    {
     "name": "stdout",
     "output_type": "stream",
     "text": [
      "<class 'pandas.core.frame.DataFrame'>\n",
      "RangeIndex: 646510 entries, 0 to 646509\n",
      "Data columns (total 9 columns):\n",
      "Duration                646510 non-null int64\n",
      "Start Date              646510 non-null object\n",
      "End Date                646510 non-null object\n",
      "Start Station Number    646510 non-null int64\n",
      "Start Station Name      646510 non-null object\n",
      "End Station Number      646510 non-null int64\n",
      "End Station Name        646510 non-null object\n",
      "Bike Number             646510 non-null int64\n",
      "Member Type             646510 non-null object\n",
      "dtypes: int64(4), object(5)\n",
      "memory usage: 44.4+ MB\n"
     ]
    }
   ],
   "source": [
    "dataframe_washington.info()"
   ]
  },
  {
   "cell_type": "markdown",
   "metadata": {},
   "source": [
    "## I would like to visualise the destination of each bike share dock. Our main dataset doesn't have a latitude/longitude column for us to do this, therefore, for this visualisation we will use a temporary dataset of Bike Share docks in Melbourne.\n",
    "\n",
    "The data can be found here: [Bike Data](https://data.melbourne.vic.gov.au/Transport-Movement/Bike-Share-Dock-Locations/vrwc-rwgm) `COLUMNS: 'station_id'\t'Name'\t'Rental_Method'\t'Capacity'\t'Latitude'\t'Longitude'\t'Location'`"
   ]
  },
  {
   "cell_type": "code",
   "execution_count": 55,
   "metadata": {},
   "outputs": [
    {
     "name": "stdout",
     "output_type": "stream",
     "text": [
      "CPU times: user 60 ms, sys: 2.31 ms, total: 62.3 ms\n",
      "Wall time: 8.04 ms\n"
     ]
    }
   ],
   "source": [
    "%%time\n",
    "# Load up the journeys.csv dataset into dataframes\n",
    "dataframe_melbourne = pd.read_csv('data/Bike_Share_Dock_Locations.csv')\n",
    "dataframe_melbourne.columns = ['station_id', 'Name', 'Rental_Method', 'Capacity', 'Latitude', 'Longitude', 'Location']\n",
    "dataframe_melbourne.dropna()"
   ]
  },
  {
   "cell_type": "code",
   "execution_count": 56,
   "metadata": {},
   "outputs": [
    {
     "name": "stdout",
     "output_type": "stream",
     "text": [
      "<class 'pandas.core.frame.DataFrame'>\n",
      "RangeIndex: 50 entries, 0 to 49\n",
      "Data columns (total 7 columns):\n",
      "station_id       50 non-null int64\n",
      "Name             50 non-null object\n",
      "Rental_Method    50 non-null object\n",
      "Capacity         50 non-null int64\n",
      "Latitude         50 non-null float64\n",
      "Longitude        50 non-null float64\n",
      "Location         50 non-null object\n",
      "dtypes: float64(2), int64(2), object(3)\n",
      "memory usage: 2.8+ KB\n"
     ]
    }
   ],
   "source": [
    "dataframe_melbourne.info()"
   ]
  },
  {
   "cell_type": "code",
   "execution_count": 57,
   "metadata": {},
   "outputs": [
    {
     "data": {
      "text/html": [
       "<div>\n",
       "<style scoped>\n",
       "    .dataframe tbody tr th:only-of-type {\n",
       "        vertical-align: middle;\n",
       "    }\n",
       "\n",
       "    .dataframe tbody tr th {\n",
       "        vertical-align: top;\n",
       "    }\n",
       "\n",
       "    .dataframe thead th {\n",
       "        text-align: right;\n",
       "    }\n",
       "</style>\n",
       "<table border=\"1\" class=\"dataframe\">\n",
       "  <thead>\n",
       "    <tr style=\"text-align: right;\">\n",
       "      <th></th>\n",
       "      <th>station_id</th>\n",
       "      <th>Name</th>\n",
       "      <th>Rental_Method</th>\n",
       "      <th>Capacity</th>\n",
       "      <th>Latitude</th>\n",
       "      <th>Longitude</th>\n",
       "      <th>Location</th>\n",
       "    </tr>\n",
       "  </thead>\n",
       "  <tbody>\n",
       "    <tr>\n",
       "      <th>0</th>\n",
       "      <td>52</td>\n",
       "      <td>Flagstaff Gardens - Peel St - West Melbourne</td>\n",
       "      <td>CREDITCARD,KEY</td>\n",
       "      <td>11</td>\n",
       "      <td>-37.809216</td>\n",
       "      <td>144.955223</td>\n",
       "      <td>(-37.809216, 144.955223)</td>\n",
       "    </tr>\n",
       "    <tr>\n",
       "      <th>1</th>\n",
       "      <td>17</td>\n",
       "      <td>Yarra's Point - Lorimer St / Yarra River - Doc...</td>\n",
       "      <td>CREDITCARD,KEY</td>\n",
       "      <td>15</td>\n",
       "      <td>-37.823805</td>\n",
       "      <td>144.943051</td>\n",
       "      <td>(-37.823805, 144.943051)</td>\n",
       "    </tr>\n",
       "    <tr>\n",
       "      <th>2</th>\n",
       "      <td>25</td>\n",
       "      <td>Sandridge Bridge - Southbank</td>\n",
       "      <td>CREDITCARD,KEY</td>\n",
       "      <td>27</td>\n",
       "      <td>-37.820836</td>\n",
       "      <td>144.962266</td>\n",
       "      <td>(-37.820836, 144.962266)</td>\n",
       "    </tr>\n",
       "    <tr>\n",
       "      <th>3</th>\n",
       "      <td>39</td>\n",
       "      <td>Richmond Station - Brunton Ave - East Melbourne</td>\n",
       "      <td>CREDITCARD,KEY</td>\n",
       "      <td>19</td>\n",
       "      <td>-37.822962</td>\n",
       "      <td>144.988507</td>\n",
       "      <td>(-37.822962, 144.988507)</td>\n",
       "    </tr>\n",
       "    <tr>\n",
       "      <th>4</th>\n",
       "      <td>18</td>\n",
       "      <td>Argyle Square - Lygon St - Carlton</td>\n",
       "      <td>CREDITCARD,KEY</td>\n",
       "      <td>11</td>\n",
       "      <td>-37.802129</td>\n",
       "      <td>144.966770</td>\n",
       "      <td>(-37.802129, 144.96677)</td>\n",
       "    </tr>\n",
       "  </tbody>\n",
       "</table>\n",
       "</div>"
      ],
      "text/plain": [
       "   station_id                                               Name  \\\n",
       "0          52       Flagstaff Gardens - Peel St - West Melbourne   \n",
       "1          17  Yarra's Point - Lorimer St / Yarra River - Doc...   \n",
       "2          25                       Sandridge Bridge - Southbank   \n",
       "3          39    Richmond Station - Brunton Ave - East Melbourne   \n",
       "4          18                 Argyle Square - Lygon St - Carlton   \n",
       "\n",
       "    Rental_Method  Capacity   Latitude   Longitude                  Location  \n",
       "0  CREDITCARD,KEY        11 -37.809216  144.955223  (-37.809216, 144.955223)  \n",
       "1  CREDITCARD,KEY        15 -37.823805  144.943051  (-37.823805, 144.943051)  \n",
       "2  CREDITCARD,KEY        27 -37.820836  144.962266  (-37.820836, 144.962266)  \n",
       "3  CREDITCARD,KEY        19 -37.822962  144.988507  (-37.822962, 144.988507)  \n",
       "4  CREDITCARD,KEY        11 -37.802129  144.966770   (-37.802129, 144.96677)  "
      ]
     },
     "execution_count": 57,
     "metadata": {},
     "output_type": "execute_result"
    }
   ],
   "source": [
    "dataframe_melbourne.head()"
   ]
  },
  {
   "cell_type": "code",
   "execution_count": 58,
   "metadata": {},
   "outputs": [
    {
     "data": {
      "image/png": "[encoded data removed]",
      "text/plain": [
       "<Figure size 720x504 with 1 Axes>"
      ]
     },
     "metadata": {
      "needs_background": "light"
     },
     "output_type": "display_data"
    }
   ],
   "source": [
    "dataframe_melbourne.plot(kind = \"scatter\", x = \"Longitude\", y = \"Latitude\", figsize = (10, 7));"
   ]
  },
  {
   "cell_type": "code",
   "execution_count": 59,
   "metadata": {},
   "outputs": [
    {
     "data": {
      "text/plain": [
       "<matplotlib.axes._subplots.AxesSubplot at 0x1a18d49350>"
      ]
     },
     "execution_count": 59,
     "metadata": {},
     "output_type": "execute_result"
    },
    {
     "data": {
      "image/png": "[encoded data removed]",
      "text/plain": [
       "<Figure size 432x288 with 1 Axes>"
      ]
     },
     "metadata": {
      "needs_background": "light"
     },
     "output_type": "display_data"
    }
   ],
   "source": [
    "# We can create a scatter of the walking and cycling % of our journeys dataframe (first dataset)\n",
    "dataframe_journeys.plot(kind = \"scatter\", x = \"Walking_%\", y = \"Cycling_%\")"
   ]
  },
  {
   "cell_type": "code",
   "execution_count": 60,
   "metadata": {},
   "outputs": [
    {
     "data": {
      "text/plain": [
       "<matplotlib.axes._subplots.AxesSubplot at 0x104b2ca50>"
      ]
     },
     "execution_count": 60,
     "metadata": {},
     "output_type": "execute_result"
    },
    {
     "data": {
      "image/png": "[encoded data removed]",
      "text/plain": [
       "<Figure size 720x504 with 1 Axes>"
      ]
     },
     "metadata": {
      "needs_background": "light"
     },
     "output_type": "display_data"
    }
   ],
   "source": [
    "# If we want to see the high density points, we can set alpha to 0.1\n",
    "dataframe_journeys.plot(kind = \"scatter\", x = \"Walking_%\", y = \"Cycling_%\", alpha = 0.2, figsize = (10, 7))"
   ]
  },
  {
   "cell_type": "code",
   "execution_count": 61,
   "metadata": {},
   "outputs": [
    {
     "data": {
      "image/png": "[encoded data removed]",
      "text/plain": [
       "<Figure size 720x504 with 2 Axes>"
      ]
     },
     "metadata": {
      "needs_background": "light"
     },
     "output_type": "display_data"
    }
   ],
   "source": [
    "fig, ax = plt.subplots()\n",
    "dataframe_melbourne.plot(kind = \"scatter\", x = \"Longitude\", y = \"Latitude\", alpha = 0.6,\n",
    "                       s = dataframe_melbourne[\"station_id\"], label = \"Station ID\", figsize = (10, 7),\n",
    "                        c = \"Capacity\", cmap=plt.get_cmap(\"jet\"), colorbar = True, ax=ax)\n",
    "\n",
    "plt.legend();"
   ]
  },
  {
   "cell_type": "markdown",
   "metadata": {},
   "source": [
    "### From the visualisation above, we can see that there are more stations with smaller capacities (hold bikes) than ones that hold over 30 - 35 bikes. There are only 2 docks that hold 30 bikes and two that hold 35."
   ]
  },
  {
   "cell_type": "code",
   "execution_count": 62,
   "metadata": {},
   "outputs": [],
   "source": [
    "# Lets calculate the standard correlation coefficient.\n",
    "correlation_matrix = dataframe_washington.corr()"
   ]
  },
  {
   "cell_type": "code",
   "execution_count": 63,
   "metadata": {},
   "outputs": [
    {
     "data": {
      "text/plain": [
       "Duration                1.000000\n",
       "Bike Number             0.002834\n",
       "Start Station Number   -0.011554\n",
       "End Station Number     -0.015248\n",
       "Name: Duration, dtype: float64"
      ]
     },
     "execution_count": 63,
     "metadata": {},
     "output_type": "execute_result"
    }
   ],
   "source": [
    "correlation_matrix[\"Duration\"].sort_values(ascending = False)"
   ]
  },
  {
   "cell_type": "code",
   "execution_count": 64,
   "metadata": {},
   "outputs": [],
   "source": [
    "# Here we will convert the Member Type column to numbers for machine learning algorithms.\n",
    "members_category = dataframe_washington['Member Type']"
   ]
  },
  {
   "cell_type": "code",
   "execution_count": 65,
   "metadata": {},
   "outputs": [],
   "source": [
    "members_type_encoded, members_cat = members_category.factorize()"
   ]
  },
  {
   "cell_type": "code",
   "execution_count": 66,
   "metadata": {},
   "outputs": [
    {
     "data": {
      "text/plain": [
       "array([0, 1, 1, 1, 1, 1, 0, 0, 0, 0])"
      ]
     },
     "execution_count": 66,
     "metadata": {},
     "output_type": "execute_result"
    }
   ],
   "source": [
    "members_type_encoded[:10]"
   ]
  },
  {
   "cell_type": "code",
   "execution_count": 67,
   "metadata": {},
   "outputs": [
    {
     "data": {
      "text/plain": [
       "Index([u'Member', u'Casual'], dtype='object')"
      ]
     },
     "execution_count": 67,
     "metadata": {},
     "output_type": "execute_result"
    }
   ],
   "source": [
    "# Member = 0 and Casual = 1\n",
    "members_cat"
   ]
  },
  {
   "cell_type": "code",
   "execution_count": 68,
   "metadata": {},
   "outputs": [
    {
     "name": "stderr",
     "output_type": "stream",
     "text": [
      "/miniconda2/lib/python2.7/site-packages/sklearn/preprocessing/_encoders.py:368: FutureWarning: The handling of integer data will change in version 0.22. Currently, the categories are determined based on the range [0, max(values)], while in the future they will be determined based on the unique values.\n",
      "If you want the future behaviour and silence this warning, you can specify \"categories='auto'\".\n",
      "In case you used a LabelEncoder before this OneHotEncoder to convert the categories to integers, then you can now use the OneHotEncoder directly.\n",
      "  warnings.warn(msg, FutureWarning)\n"
     ]
    },
    {
     "data": {
      "text/plain": [
       "<646510x2 sparse matrix of type '<type 'numpy.float64'>'\n",
       "\twith 646510 stored elements in Compressed Sparse Row format>"
      ]
     },
     "execution_count": 68,
     "metadata": {},
     "output_type": "execute_result"
    }
   ],
   "source": [
    "encoder = OneHotEncoder()\n",
    "members_cat_1hot = encoder.fit_transform(members_type_encoded.reshape(-1, 1))\n",
    "members_cat_1hot"
   ]
  },
  {
   "cell_type": "code",
   "execution_count": 69,
   "metadata": {},
   "outputs": [
    {
     "data": {
      "text/plain": [
       "array([[1., 0.],\n",
       "       [0., 1.],\n",
       "       [0., 1.],\n",
       "       ...,\n",
       "       [1., 0.],\n",
       "       [1., 0.],\n",
       "       [1., 0.]])"
      ]
     },
     "execution_count": 69,
     "metadata": {},
     "output_type": "execute_result"
    }
   ],
   "source": [
    "members_cat_1hot.toarray()"
   ]
  },
  {
   "cell_type": "markdown",
   "metadata": {},
   "source": [
    "## Let's perform some linear regression on our dataset."
   ]
  },
  {
   "cell_type": "code",
   "execution_count": 70,
   "metadata": {},
   "outputs": [],
   "source": [
    "# We need to create a pipeline to modify the dataset making it ready for machine learning algorithms.\n",
    "from sklearn.base import BaseEstimator, TransformerMixin\n",
    "class DataFrameSelector(BaseEstimator, TransformerMixin):\n",
    "    def __init__(self, attribute_names):\n",
    "        self.attribute_names = attribute_names\n",
    "    def fit(self, X, y = None):\n",
    "        return self\n",
    "    def transform(self, X):\n",
    "        return X[self.attribute_names].values"
   ]
  },
  {
   "cell_type": "code",
   "execution_count": 71,
   "metadata": {},
   "outputs": [],
   "source": [
    "class DenseTransformer(TransformerMixin):\n",
    "\n",
    "    def fit(self, X, y=None, **fit_params):\n",
    "        return self\n",
    "\n",
    "    def transform(self, X, y=None, **fit_params):\n",
    "        return X.todense()"
   ]
  },
  {
   "cell_type": "code",
   "execution_count": 72,
   "metadata": {},
   "outputs": [
    {
     "name": "stdout",
     "output_type": "stream",
     "text": [
      "<class 'pandas.core.frame.DataFrame'>\n",
      "RangeIndex: 646510 entries, 0 to 646509\n",
      "Data columns (total 9 columns):\n",
      "Duration                646510 non-null int64\n",
      "Start Date              646510 non-null object\n",
      "End Date                646510 non-null object\n",
      "Start Station Number    646510 non-null int64\n",
      "Start Station Name      646510 non-null object\n",
      "End Station Number      646510 non-null int64\n",
      "End Station Name        646510 non-null object\n",
      "Bike Number             646510 non-null int64\n",
      "Member Type             646510 non-null object\n",
      "dtypes: int64(4), object(5)\n",
      "memory usage: 44.4+ MB\n"
     ]
    }
   ],
   "source": [
    "dataframe_washington.info()"
   ]
  },
  {
   "cell_type": "code",
   "execution_count": 73,
   "metadata": {},
   "outputs": [],
   "source": [
    "# We are trying to convert a dataframe into a numpy array (only chosen attributes to feed into our pipeline)\n",
    "columns_01 = ['Duration', 'Start Station Number', 'End Station Number', 'Bike Number']\n",
    "num_attributes = dataframe_washington[columns_01]\n",
    "number_attributes = list(num_attributes)\n",
    "category_attributes = ['Member Type']"
   ]
  },
  {
   "cell_type": "markdown",
   "metadata": {},
   "source": [
    "# We used pipelines to improve our models by parsing data from one function to another making the data handling and processing much more smoother."
   ]
  },
  {
   "cell_type": "markdown",
   "metadata": {},
   "source": [
    "<img src=\"Images\\pipeline.png\" width=\"600\" height=\"500\">"
   ]
  },
  {
   "cell_type": "code",
   "execution_count": 74,
   "metadata": {},
   "outputs": [],
   "source": [
    "from sklearn.pipeline import Pipeline\n",
    "from sklearn.impute import SimpleImputer\n",
    "from sklearn.preprocessing import OneHotEncoder\n",
    "# The pipeline with number attributes only.\n",
    "number_pipeline = Pipeline([\n",
    "    ('selector', DataFrameSelector(number_attributes)),\n",
    "    ('imputer', SimpleImputer(strategy=\"median\")),\n",
    "    ('std_scaler', StandardScaler()),\n",
    "])\n",
    "# The pipeline with category type attribtes like `member type`.\n",
    "category_pipeline = Pipeline([\n",
    "    ('selector', DataFrameSelector(category_attributes)),\n",
    "    ('hot_encoder', OneHotEncoder()),\n",
    "])"
   ]
  },
  {
   "cell_type": "code",
   "execution_count": 75,
   "metadata": {},
   "outputs": [],
   "source": [
    "from sklearn.pipeline import FeatureUnion\n",
    "# Now we need a pipeline to handle both numerical and categorical pipelines\n",
    "pipeline_full = FeatureUnion(transformer_list = [\n",
    "    ('number_pipeline', number_pipeline),\n",
    "    ('category_pipeline', category_pipeline),\n",
    "])"
   ]
  },
  {
   "cell_type": "code",
   "execution_count": 137,
   "metadata": {},
   "outputs": [
    {
     "data": {
      "text/plain": [
       "array([[-0.37826415,  1.45201146, -0.51831296, -1.59737451,  0.        ,\n",
       "         1.        ],\n",
       "       [ 0.31890206, -0.27248935, -0.23179855, -1.59471729,  1.        ,\n",
       "         0.        ],\n",
       "       [ 0.16557341, -0.13030976, -0.45361616,  0.64276557,  1.        ,\n",
       "         0.        ],\n",
       "       ...,\n",
       "       [-0.28147544,  1.4199064 ,  1.35789427,  0.51819525,  0.        ,\n",
       "         1.        ],\n",
       "       [ 0.01799458, -0.47887907,  1.32092467,  0.51936442,  0.        ,\n",
       "         1.        ],\n",
       "       [-0.37730585, -0.97880085, -1.00353897,  0.52372226,  0.        ,\n",
       "         1.        ]])"
      ]
     },
     "execution_count": 137,
     "metadata": {},
     "output_type": "execute_result"
    }
   ],
   "source": [
    "data_prepared = pipeline_full.fit_transform(dataframe_washington)\n",
    "data_prepared.toarray()"
   ]
  },
  {
   "cell_type": "code",
   "execution_count": 105,
   "metadata": {},
   "outputs": [
    {
     "data": {
      "text/plain": [
       "(646510, 6)"
      ]
     },
     "execution_count": 105,
     "metadata": {},
     "output_type": "execute_result"
    }
   ],
   "source": [
    "data_prepared.shape"
   ]
  },
  {
   "cell_type": "code",
   "execution_count": 106,
   "metadata": {},
   "outputs": [],
   "source": [
    "dataframe_labels = dataframe_washington['Duration'].copy()"
   ]
  },
  {
   "cell_type": "code",
   "execution_count": 107,
   "metadata": {},
   "outputs": [
    {
     "data": {
      "text/plain": [
       "LinearRegression(copy_X=True, fit_intercept=True, n_jobs=None,\n",
       "         normalize=False)"
      ]
     },
     "execution_count": 107,
     "metadata": {},
     "output_type": "execute_result"
    }
   ],
   "source": [
    "linear_reg = LinearRegression()\n",
    "linear_reg.fit(data_prepared, dataframe_labels)"
   ]
  },
  {
   "cell_type": "code",
   "execution_count": 108,
   "metadata": {},
   "outputs": [
    {
     "name": "stdout",
     "output_type": "stream",
     "text": [
      "Predictions:  [  221.  1676.  1356.  1327.  1636.  1603.   473.   200.   748.   912.\n",
      "   383.   600.  2062.  2017.   404.   981.   750.   195.   244.   280.\n",
      "   555.   543.   483.   216. 36943.  1903.   228.   653.   414.   427.]\n"
     ]
    }
   ],
   "source": [
    "some_data = dataframe_washington.iloc[:30]\n",
    "some_labels = dataframe_labels.iloc[:30]\n",
    "some_data_prepared = pipeline_full.transform(some_data)\n",
    "print(\"Predictions: \", linear_reg.predict(some_data_prepared))"
   ]
  },
  {
   "cell_type": "code",
   "execution_count": 109,
   "metadata": {},
   "outputs": [
    {
     "name": "stdout",
     "output_type": "stream",
     "text": [
      "Labels:  [221, 1676, 1356, 1327, 1636, 1603, 473, 200, 748, 912, 383, 600, 2062, 2017, 404, 981, 750, 195, 244, 280, 555, 543, 483, 216, 36943, 1903, 228, 653, 414, 427]\n"
     ]
    }
   ],
   "source": [
    "print(\"Labels: \", list(some_labels))"
   ]
  },
  {
   "cell_type": "markdown",
   "metadata": {},
   "source": [
    "## We performed linear regression on 30 rows of data and when we compared the predictions with the labels we can see that our algorithm matched perfectly, this is because the values used are not floating point but integer. Again we reiterate that this dataset is suited more for clustering not regression analysis."
   ]
  },
  {
   "cell_type": "markdown",
   "metadata": {},
   "source": [
    "## Lets measure the regression models RMSE\n",
    "<img src=\"Images\\rmse.png\" width=\"300\" height=\"200\">"
   ]
  },
  {
   "cell_type": "code",
   "execution_count": 110,
   "metadata": {},
   "outputs": [
    {
     "data": {
      "text/plain": [
       "2.2836988201029654e-11"
      ]
     },
     "execution_count": 110,
     "metadata": {},
     "output_type": "execute_result"
    }
   ],
   "source": [
    "washington_predictions = linear_reg.predict(data_prepared)\n",
    "linear_mse = mean_squared_error(dataframe_labels, washington_predictions)\n",
    "linear_rmse = np.sqrt(linear_mse)\n",
    "linear_rmse"
   ]
  },
  {
   "cell_type": "markdown",
   "metadata": {},
   "source": [
    "## 2.2 error rate, this is really good, it means the training model and labels are very closely correlated."
   ]
  },
  {
   "cell_type": "code",
   "execution_count": 111,
   "metadata": {},
   "outputs": [
    {
     "data": {
      "text/plain": [
       "DecisionTreeRegressor(criterion='mse', max_depth=None, max_features=None,\n",
       "           max_leaf_nodes=None, min_impurity_decrease=0.0,\n",
       "           min_impurity_split=None, min_samples_leaf=1,\n",
       "           min_samples_split=2, min_weight_fraction_leaf=0.0,\n",
       "           presort=False, random_state=None, splitter='best')"
      ]
     },
     "execution_count": 111,
     "metadata": {},
     "output_type": "execute_result"
    }
   ],
   "source": [
    "# Lets try something more complex, a decision tree regressor:\n",
    "tree_regressor = DecisionTreeRegressor()\n",
    "tree_regressor.fit(data_prepared, dataframe_labels)"
   ]
  },
  {
   "cell_type": "code",
   "execution_count": 112,
   "metadata": {},
   "outputs": [
    {
     "data": {
      "text/plain": [
       "0.0"
      ]
     },
     "execution_count": 112,
     "metadata": {},
     "output_type": "execute_result"
    }
   ],
   "source": [
    "washington_predictions = tree_regressor.predict(data_prepared)\n",
    "tree_mse = mean_squared_error(dataframe_labels, washington_predictions)\n",
    "tree_rmse = np.sqrt(tree_mse)\n",
    "tree_rmse"
   ]
  },
  {
   "cell_type": "markdown",
   "metadata": {},
   "source": [
    "## No error at all! It is more likely that the model has overfitted the data. "
   ]
  },
  {
   "cell_type": "markdown",
   "metadata": {},
   "source": [
    "## K-Fold cross validation"
   ]
  },
  {
   "cell_type": "code",
   "execution_count": 85,
   "metadata": {},
   "outputs": [],
   "source": [
    "scores_tree = cross_val_score(tree_regressor, data_prepared, dataframe_labels,\n",
    "                        scoring = \"neg_mean_squared_error\", cv = 10)\n",
    "tree_rmse_scores = np.sqrt(-scores_tree)"
   ]
  },
  {
   "cell_type": "code",
   "execution_count": 86,
   "metadata": {},
   "outputs": [],
   "source": [
    "scores_linear_regression = cross_val_score(linear_reg, data_prepared, dataframe_labels,\n",
    "                                           scoring = \"neg_mean_squared_error\", cv = 10)\n",
    "linear_rmse_scores = np.sqrt(-scores_linear_regression)"
   ]
  },
  {
   "cell_type": "code",
   "execution_count": 87,
   "metadata": {},
   "outputs": [],
   "source": [
    "def display_results(scores):\n",
    "    print(\"Scores: \", scores)\n",
    "    print(\"Mean: \", scores.mean())\n",
    "    print(\"Standard deviation: \", scores.std())"
   ]
  },
  {
   "cell_type": "code",
   "execution_count": 88,
   "metadata": {},
   "outputs": [
    {
     "name": "stdout",
     "output_type": "stream",
     "text": [
      "Scores:  [-18.84105428 -50.30438818 -21.98423845 -34.74029791 -35.38464989\n",
      " -32.33340552 -28.375029   -21.16013673 -27.34237676 -44.48488036]\n",
      "Mean:  -31.49504570694962\n",
      "Standard deviation:  9.660533934553538\n"
     ]
    }
   ],
   "source": [
    "display_results(scores_tree)"
   ]
  },
  {
   "cell_type": "code",
   "execution_count": 89,
   "metadata": {},
   "outputs": [
    {
     "name": "stdout",
     "output_type": "stream",
     "text": [
      "Scores:  [-5.48391288e-23 -3.83381237e-22 -1.00997915e-22 -1.71556418e-22\n",
      " -1.57094419e-22 -4.36902347e-22 -9.17186731e-23 -8.72519379e-22\n",
      " -5.43128323e-22 -2.52149908e-23]\n",
      "Mean:  -2.837352831596626e-22\n",
      "Standard deviation:  2.5796365015624693e-22\n"
     ]
    }
   ],
   "source": [
    "display_results(scores_linear_regression)"
   ]
  },
  {
   "cell_type": "markdown",
   "metadata": {},
   "source": [
    "## The tree regressor seems to perform worse than the linear regression method. The standard deviation tells us how accurate this estimate is. It is clear given these values that `decision tree regression` is overfitting a lot. "
   ]
  },
  {
   "cell_type": "code",
   "execution_count": 90,
   "metadata": {},
   "outputs": [
    {
     "name": "stderr",
     "output_type": "stream",
     "text": [
      "/miniconda2/lib/python2.7/site-packages/sklearn/ensemble/forest.py:246: FutureWarning: The default value of n_estimators will change from 10 in version 0.20 to 100 in 0.22.\n",
      "  \"10 in version 0.20 to 100 in 0.22.\", FutureWarning)\n"
     ]
    },
    {
     "data": {
      "text/plain": [
       "1.7751306169005938"
      ]
     },
     "execution_count": 90,
     "metadata": {},
     "output_type": "execute_result"
    }
   ],
   "source": [
    "# Lets try and compare the Random Forest Regression.\n",
    "forest_regression = RandomForestRegressor()\n",
    "forest_regression.fit(data_prepared, dataframe_labels)\n",
    "washington_predictions_v3 = forest_regression.predict(data_prepared)\n",
    "forest_mse = mean_squared_error(dataframe_labels, washington_predictions_v3)\n",
    "forest_rmse = np.sqrt(forest_mse)\n",
    "forest_rmse"
   ]
  },
  {
   "cell_type": "markdown",
   "metadata": {},
   "source": [
    "## It is clear that random forest regression is much better than both linear regression and decision tree regression. But the model still overfits, some tuning would have to be done to minimise the overfitting. One solution could be to simplify the model."
   ]
  },
  {
   "cell_type": "code",
   "execution_count": 91,
   "metadata": {},
   "outputs": [
    {
     "name": "stdout",
     "output_type": "stream",
     "text": [
      "Scores:  [-21.95177134 -29.67161441 -36.21492383]\n",
      "Mean:  -29.279436524825844\n",
      "Standard deviation:  5.8295072622942445\n"
     ]
    }
   ],
   "source": [
    "scores_forest = cross_val_score(forest_regression, data_prepared, dataframe_labels,\n",
    "                        scoring = \"neg_mean_squared_error\", cv = 3)\n",
    "forest_rmse_scores = np.sqrt(-scores_forest)\n",
    "display_results(scores_forest)"
   ]
  },
  {
   "cell_type": "markdown",
   "metadata": {},
   "source": [
    "## Clustering of all the bike stations in Melbourne from our `dataframe_melbourne` dataset"
   ]
  },
  {
   "cell_type": "code",
   "execution_count": 119,
   "metadata": {},
   "outputs": [],
   "source": [
    "dataframe_melbourne.fillna(97000)\n",
    "dataframe_melbourne.dropna(axis=0,how='any',subset=['Latitude','Longitude'],inplace=True)\n",
    "X=dataframe_melbourne.loc[:,['Latitude','Longitude']]\n",
    "zp=dataframe_melbourne"
   ]
  },
  {
   "cell_type": "code",
   "execution_count": 120,
   "metadata": {},
   "outputs": [],
   "source": [
    "#run KMeans\n",
    "kmeans = KMeans(n_clusters=8, random_state=0).fit(X)\n",
    "id_label=kmeans.labels_"
   ]
  },
  {
   "cell_type": "code",
   "execution_count": 122,
   "metadata": {},
   "outputs": [
    {
     "data": {
      "image/png": "[encoded data removed]",
      "text/plain": [
       "<Figure size 864x864 with 1 Axes>"
      ]
     },
     "metadata": {
      "needs_background": "light"
     },
     "output_type": "display_data"
    }
   ],
   "source": [
    "#plot result\n",
    "ptsymb = np.array(['b.','r.','m.','g.','c.','k.','b*','r*','m*','r^']);\n",
    "plt.figure(figsize=(12,12))\n",
    "plt.ylabel('Longitude', fontsize=12)\n",
    "plt.xlabel('Latitude', fontsize=12)\n",
    "for i in range(8):\n",
    "    cluster=np.where(id_label==i)[0]\n",
    "    plt.plot(X.Latitude[cluster].values,X.Longitude[cluster].values,ptsymb[i])\n",
    "plt.show()"
   ]
  },
  {
   "cell_type": "markdown",
   "metadata": {},
   "source": [
    "## I planned to run GridSearch on forest regression to tune the hyper parameters but as my computer and all other computers I tried couldn't compute the results I commented out the code. A deep learning computer with dedicated GPU and CPU are needed to run this complex bit of computation. "
   ]
  },
  {
   "cell_type": "code",
   "execution_count": null,
   "metadata": {},
   "outputs": [],
   "source": [
    "def random_search_cv(clf, param_distribution, n_iter_search, X_train, y_train):\n",
    "    '''\n",
    "    random search with optimization with nested resampling\n",
    "    @return: random search object\n",
    "    '''\n",
    "    rnd_search = RandomizedSearchCV(clf, param_distributions = param_distribution,\n",
    "                                    n_iter = n_iter_search, pre_dispatch = '2*n_jobs', n_jobs = 4)\n",
    "    rnd_search.fit(X_train, y_train)\n",
    "    \n",
    "    return rnd_search "
   ]
  },
  {
   "cell_type": "code",
   "execution_count": null,
   "metadata": {},
   "outputs": [],
   "source": [
    "#parameter_grid = [\n",
    "#    {'n_estimators': [3, 10, 30], 'max_features': [2, 4, 6, 8]},\n",
    "#    {'bootstrap': [False], 'n_estimators': [3, 10], 'max_features': [2, 3, 4]},\n",
    "#]\n",
    "\n",
    "#forest_regression = RandomForestRegressor()\n",
    "\n",
    "#grid_search = GridSearchCV(forest_regression, parameter_grid, cv = 5,\n",
    "#                          scoring = 'neg_mean_squared_error')\n",
    "\n",
    "#grid_search.fit(data_prepared, dataframe_labels)"
   ]
  },
  {
   "cell_type": "code",
   "execution_count": null,
   "metadata": {},
   "outputs": [],
   "source": [
    "from sklearn.model_selection import StratifiedKFold"
   ]
  },
  {
   "cell_type": "code",
   "execution_count": null,
   "metadata": {},
   "outputs": [],
   "source": [
    "kfold = StratifiedKFold(n_splits = 10, random_state = 1).split(data_prepared, dataframe_labels)"
   ]
  },
  {
   "cell_type": "code",
   "execution_count": null,
   "metadata": {},
   "outputs": [],
   "source": [
    "scores = []\n",
    "for k, (train, test) in enumerate(kfold):\n",
    "    pipe_lr."
   ]
  }
 ],
 "metadata": {
  "anaconda-cloud": {},
  "gist": {
   "data": {
    "description": "data_modelling_bike_sharing_global.ipynb",
    "public": false
   },
   "id": ""
  },
  "kernelspec": {
   "display_name": "Python 2",
   "language": "python",
   "name": "python2"
  },
  "language_info": {
   "codemirror_mode": {
    "name": "ipython",
    "version": 2
   },
   "file_extension": ".py",
   "mimetype": "text/x-python",
   "name": "python",
   "nbconvert_exporter": "python",
   "pygments_lexer": "ipython2",
   "version": "2.7.15"
  },
  "toc": {
   "base_numbering": 1,
   "nav_menu": {},
   "number_sections": true,
   "sideBar": true,
   "skip_h1_title": false,
   "title_cell": "Table of Contents",
   "title_sidebar": "Contents",
   "toc_cell": false,
   "toc_position": {},
   "toc_section_display": true,
   "toc_window_display": true
  }
 },
 "nbformat": 4,
 "nbformat_minor": 2
}
