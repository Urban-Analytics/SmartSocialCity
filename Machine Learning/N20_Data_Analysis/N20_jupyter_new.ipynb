version https://git-lfs.github.com/spec/v1
oid sha256:b8d4d5d622bd80765d7a13700edd8e787fa56ce2524e1d8a3a0c66319cc1de74
size 143461
