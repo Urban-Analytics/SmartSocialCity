{
 "cells": [
  {
   "attachments": {},
   "cell_type": "markdown",
   "metadata": {},
   "source": [
    "# N20 DATA ANALYSIS\n",
    "## Author: Sedar Olmez\n",
    "## Date: 20/03/2019\n",
    "### Dataset information:\n",
    "<img src='images/datasetDescription.png'>"
   ]
  },
  {
   "cell_type": "markdown",
   "metadata": {},
   "source": [
    "In this project, I will explore data which conveys the biological and physical elements of crop growth in a controlled environment. The ML techniques I will explore are `classification`, `regression` and maybe `clustering` depending on the data stored, first I will clean up the data and then start my analysis. My main object is to:\n",
    "## Explore links and relations between variables, with the ultimate goal of improving predictions of soil N2O emissions from fertilizer application."
   ]
  },
  {
   "cell_type": "code",
   "execution_count": null,
   "metadata": {},
   "outputs": [],
   "source": []
  }
 ],
 "metadata": {
  "kernelspec": {
   "display_name": "Python 2",
   "language": "python",
   "name": "python2"
  },
  "toc": {
   "base_numbering": 1,
   "nav_menu": {},
   "number_sections": true,
   "sideBar": true,
   "skip_h1_title": false,
   "title_cell": "Table of Contents",
   "title_sidebar": "Contents",
   "toc_cell": false,
   "toc_position": {},
   "toc_section_display": true,
   "toc_window_display": false
  }
 },
 "nbformat": 4,
 "nbformat_minor": 2
}
